{
  "nbformat": 4,
  "nbformat_minor": 0,
  "metadata": {
    "kernelspec": {
      "name": "python36",
      "display_name": "Python 3.6",
      "language": "python"
    },
    "language_info": {
      "mimetype": "text/x-python",
      "nbconvert_exporter": "python",
      "name": "python",
      "pygments_lexer": "ipython3",
      "version": "3.6.6",
      "file_extension": ".py",
      "codemirror_mode": {
        "version": 3,
        "name": "ipython"
      }
    },
    "colab": {
      "name": "Detecting Phishing Attacks.ipynb",
      "provenance": [],
      "toc_visible": true,
      "include_colab_link": true
    }
  },
  "cells": [
    {
      "cell_type": "markdown",
      "metadata": {
        "id": "view-in-github",
        "colab_type": "text"
      },
      "source": [
        "<a href=\"https://colab.research.google.com/github/piyush2003m/Book-Exchange/blob/master/Detecting_Phishing_Attacks.ipynb\" target=\"_parent\"><img src=\"https://colab.research.google.com/assets/colab-badge.svg\" alt=\"Open In Colab\"/></a>"
      ]
    },
    {
      "cell_type": "markdown",
      "metadata": {
        "id": "UTFv0vdWfZEX"
      },
      "source": [
        "## Detecting Phishing Websites using Neural Networks\n",
        "\n",
        "The aim of the experiments conducted in this notebook is to give an idea of how modern _phishing website attacks_ can be prevented using machine learning. To do this, we are going to use the [Phishing Websites' Dataset](https://archive.ics.uci.edu/ml/datasets/phishing+websites). The viewers are requested to take a look at [this paper](https://archive.ics.uci.edu/ml/machine-learning-databases/00327/Phishing%20Websites%20Features.docx) by the authors of the dataset. The paper discusses the data generation strategy in details and how the authors were able to come up with the most significant set of features for _detecting phishing websites_. \n",
        "\n",
        "We will start off the experiments by importing the initial set of Python modules.  "
      ]
    },
    {
      "cell_type": "code",
      "metadata": {
        "trusted": true,
        "id": "d0bcAjs7fZEd"
      },
      "source": [
        "# Filter the uneccesary warnings\n",
        "import warnings\n",
        "warnings.filterwarnings(\"ignore\")\n",
        "\n",
        "# Import pandas and numpy\n",
        "import pandas as pd\n",
        "import numpy as np"
      ],
      "execution_count": null,
      "outputs": []
    },
    {
      "cell_type": "markdown",
      "metadata": {
        "id": "peg9g6pJfZEl"
      },
      "source": [
        "### Data loading and basic display"
      ]
    },
    {
      "cell_type": "code",
      "metadata": {
        "trusted": true,
        "id": "zlWYCebSfZEm",
        "outputId": "61a5d62a-5d78-4f83-8537-e345d44b6374",
        "colab": {
          "base_uri": "https://localhost:8080/",
          "height": 379
        }
      },
      "source": [
        "data = pd.read_csv('Phishing.csv')\n",
        "data.head(10)"
      ],
      "execution_count": null,
      "outputs": [
        {
          "output_type": "execute_result",
          "data": {
            "text/html": [
              "<div>\n",
              "<style scoped>\n",
              "    .dataframe tbody tr th:only-of-type {\n",
              "        vertical-align: middle;\n",
              "    }\n",
              "\n",
              "    .dataframe tbody tr th {\n",
              "        vertical-align: top;\n",
              "    }\n",
              "\n",
              "    .dataframe thead th {\n",
              "        text-align: right;\n",
              "    }\n",
              "</style>\n",
              "<table border=\"1\" class=\"dataframe\">\n",
              "  <thead>\n",
              "    <tr style=\"text-align: right;\">\n",
              "      <th></th>\n",
              "      <th>having_IP_Address</th>\n",
              "      <th>URL_Length</th>\n",
              "      <th>Shortining_Service</th>\n",
              "      <th>having_At_Symbol</th>\n",
              "      <th>double_slash_redirecting</th>\n",
              "      <th>Prefix_Suffix</th>\n",
              "      <th>having_Sub_Domain</th>\n",
              "      <th>SSLfinal_State</th>\n",
              "      <th>Domain_registeration_length</th>\n",
              "      <th>Favicon</th>\n",
              "      <th>port</th>\n",
              "      <th>HTTPS_token</th>\n",
              "      <th>Request_URL</th>\n",
              "      <th>URL_of_Anchor</th>\n",
              "      <th>Links_in_tags</th>\n",
              "      <th>SFH</th>\n",
              "      <th>Submitting_to_email</th>\n",
              "      <th>Abnormal_URL</th>\n",
              "      <th>Redirect</th>\n",
              "      <th>on_mouseover</th>\n",
              "      <th>RightClick</th>\n",
              "      <th>popUpWidnow</th>\n",
              "      <th>Iframe</th>\n",
              "      <th>age_of_domain</th>\n",
              "      <th>DNSRecord</th>\n",
              "      <th>web_traffic</th>\n",
              "      <th>Page_Rank</th>\n",
              "      <th>Google_Index</th>\n",
              "      <th>Links_pointing_to_page</th>\n",
              "      <th>Statistical_report</th>\n",
              "      <th>Result</th>\n",
              "    </tr>\n",
              "  </thead>\n",
              "  <tbody>\n",
              "    <tr>\n",
              "      <th>0</th>\n",
              "      <td>-1</td>\n",
              "      <td>1</td>\n",
              "      <td>1</td>\n",
              "      <td>1</td>\n",
              "      <td>-1</td>\n",
              "      <td>-1</td>\n",
              "      <td>-1</td>\n",
              "      <td>-1</td>\n",
              "      <td>-1</td>\n",
              "      <td>1</td>\n",
              "      <td>1</td>\n",
              "      <td>-1</td>\n",
              "      <td>1</td>\n",
              "      <td>-1</td>\n",
              "      <td>1</td>\n",
              "      <td>-1</td>\n",
              "      <td>-1</td>\n",
              "      <td>-1</td>\n",
              "      <td>0</td>\n",
              "      <td>1</td>\n",
              "      <td>1</td>\n",
              "      <td>1</td>\n",
              "      <td>1</td>\n",
              "      <td>-1</td>\n",
              "      <td>-1</td>\n",
              "      <td>-1</td>\n",
              "      <td>-1</td>\n",
              "      <td>1</td>\n",
              "      <td>1</td>\n",
              "      <td>-1</td>\n",
              "      <td>-1</td>\n",
              "    </tr>\n",
              "    <tr>\n",
              "      <th>1</th>\n",
              "      <td>1</td>\n",
              "      <td>1</td>\n",
              "      <td>1</td>\n",
              "      <td>1</td>\n",
              "      <td>1</td>\n",
              "      <td>-1</td>\n",
              "      <td>0</td>\n",
              "      <td>1</td>\n",
              "      <td>-1</td>\n",
              "      <td>1</td>\n",
              "      <td>1</td>\n",
              "      <td>-1</td>\n",
              "      <td>1</td>\n",
              "      <td>0</td>\n",
              "      <td>-1</td>\n",
              "      <td>-1</td>\n",
              "      <td>1</td>\n",
              "      <td>1</td>\n",
              "      <td>0</td>\n",
              "      <td>1</td>\n",
              "      <td>1</td>\n",
              "      <td>1</td>\n",
              "      <td>1</td>\n",
              "      <td>-1</td>\n",
              "      <td>-1</td>\n",
              "      <td>0</td>\n",
              "      <td>-1</td>\n",
              "      <td>1</td>\n",
              "      <td>1</td>\n",
              "      <td>1</td>\n",
              "      <td>-1</td>\n",
              "    </tr>\n",
              "    <tr>\n",
              "      <th>2</th>\n",
              "      <td>1</td>\n",
              "      <td>0</td>\n",
              "      <td>1</td>\n",
              "      <td>1</td>\n",
              "      <td>1</td>\n",
              "      <td>-1</td>\n",
              "      <td>-1</td>\n",
              "      <td>-1</td>\n",
              "      <td>-1</td>\n",
              "      <td>1</td>\n",
              "      <td>1</td>\n",
              "      <td>-1</td>\n",
              "      <td>1</td>\n",
              "      <td>0</td>\n",
              "      <td>-1</td>\n",
              "      <td>-1</td>\n",
              "      <td>-1</td>\n",
              "      <td>-1</td>\n",
              "      <td>0</td>\n",
              "      <td>1</td>\n",
              "      <td>1</td>\n",
              "      <td>1</td>\n",
              "      <td>1</td>\n",
              "      <td>1</td>\n",
              "      <td>-1</td>\n",
              "      <td>1</td>\n",
              "      <td>-1</td>\n",
              "      <td>1</td>\n",
              "      <td>0</td>\n",
              "      <td>-1</td>\n",
              "      <td>-1</td>\n",
              "    </tr>\n",
              "    <tr>\n",
              "      <th>3</th>\n",
              "      <td>1</td>\n",
              "      <td>0</td>\n",
              "      <td>1</td>\n",
              "      <td>1</td>\n",
              "      <td>1</td>\n",
              "      <td>-1</td>\n",
              "      <td>-1</td>\n",
              "      <td>-1</td>\n",
              "      <td>1</td>\n",
              "      <td>1</td>\n",
              "      <td>1</td>\n",
              "      <td>-1</td>\n",
              "      <td>-1</td>\n",
              "      <td>0</td>\n",
              "      <td>0</td>\n",
              "      <td>-1</td>\n",
              "      <td>1</td>\n",
              "      <td>1</td>\n",
              "      <td>0</td>\n",
              "      <td>1</td>\n",
              "      <td>1</td>\n",
              "      <td>1</td>\n",
              "      <td>1</td>\n",
              "      <td>-1</td>\n",
              "      <td>-1</td>\n",
              "      <td>1</td>\n",
              "      <td>-1</td>\n",
              "      <td>1</td>\n",
              "      <td>-1</td>\n",
              "      <td>1</td>\n",
              "      <td>-1</td>\n",
              "    </tr>\n",
              "    <tr>\n",
              "      <th>4</th>\n",
              "      <td>1</td>\n",
              "      <td>0</td>\n",
              "      <td>-1</td>\n",
              "      <td>1</td>\n",
              "      <td>1</td>\n",
              "      <td>-1</td>\n",
              "      <td>1</td>\n",
              "      <td>1</td>\n",
              "      <td>-1</td>\n",
              "      <td>1</td>\n",
              "      <td>1</td>\n",
              "      <td>1</td>\n",
              "      <td>1</td>\n",
              "      <td>0</td>\n",
              "      <td>0</td>\n",
              "      <td>-1</td>\n",
              "      <td>1</td>\n",
              "      <td>1</td>\n",
              "      <td>0</td>\n",
              "      <td>-1</td>\n",
              "      <td>1</td>\n",
              "      <td>-1</td>\n",
              "      <td>1</td>\n",
              "      <td>-1</td>\n",
              "      <td>-1</td>\n",
              "      <td>0</td>\n",
              "      <td>-1</td>\n",
              "      <td>1</td>\n",
              "      <td>1</td>\n",
              "      <td>1</td>\n",
              "      <td>1</td>\n",
              "    </tr>\n",
              "    <tr>\n",
              "      <th>5</th>\n",
              "      <td>-1</td>\n",
              "      <td>0</td>\n",
              "      <td>-1</td>\n",
              "      <td>1</td>\n",
              "      <td>-1</td>\n",
              "      <td>-1</td>\n",
              "      <td>1</td>\n",
              "      <td>1</td>\n",
              "      <td>-1</td>\n",
              "      <td>1</td>\n",
              "      <td>1</td>\n",
              "      <td>-1</td>\n",
              "      <td>1</td>\n",
              "      <td>0</td>\n",
              "      <td>0</td>\n",
              "      <td>-1</td>\n",
              "      <td>-1</td>\n",
              "      <td>-1</td>\n",
              "      <td>0</td>\n",
              "      <td>1</td>\n",
              "      <td>1</td>\n",
              "      <td>1</td>\n",
              "      <td>1</td>\n",
              "      <td>1</td>\n",
              "      <td>1</td>\n",
              "      <td>1</td>\n",
              "      <td>-1</td>\n",
              "      <td>1</td>\n",
              "      <td>-1</td>\n",
              "      <td>-1</td>\n",
              "      <td>1</td>\n",
              "    </tr>\n",
              "    <tr>\n",
              "      <th>6</th>\n",
              "      <td>1</td>\n",
              "      <td>0</td>\n",
              "      <td>-1</td>\n",
              "      <td>1</td>\n",
              "      <td>1</td>\n",
              "      <td>-1</td>\n",
              "      <td>-1</td>\n",
              "      <td>-1</td>\n",
              "      <td>1</td>\n",
              "      <td>1</td>\n",
              "      <td>1</td>\n",
              "      <td>1</td>\n",
              "      <td>-1</td>\n",
              "      <td>-1</td>\n",
              "      <td>0</td>\n",
              "      <td>-1</td>\n",
              "      <td>-1</td>\n",
              "      <td>-1</td>\n",
              "      <td>0</td>\n",
              "      <td>1</td>\n",
              "      <td>1</td>\n",
              "      <td>1</td>\n",
              "      <td>1</td>\n",
              "      <td>1</td>\n",
              "      <td>-1</td>\n",
              "      <td>-1</td>\n",
              "      <td>-1</td>\n",
              "      <td>1</td>\n",
              "      <td>0</td>\n",
              "      <td>-1</td>\n",
              "      <td>-1</td>\n",
              "    </tr>\n",
              "    <tr>\n",
              "      <th>7</th>\n",
              "      <td>1</td>\n",
              "      <td>0</td>\n",
              "      <td>1</td>\n",
              "      <td>1</td>\n",
              "      <td>1</td>\n",
              "      <td>-1</td>\n",
              "      <td>-1</td>\n",
              "      <td>-1</td>\n",
              "      <td>1</td>\n",
              "      <td>1</td>\n",
              "      <td>1</td>\n",
              "      <td>-1</td>\n",
              "      <td>-1</td>\n",
              "      <td>0</td>\n",
              "      <td>-1</td>\n",
              "      <td>-1</td>\n",
              "      <td>1</td>\n",
              "      <td>1</td>\n",
              "      <td>0</td>\n",
              "      <td>1</td>\n",
              "      <td>1</td>\n",
              "      <td>1</td>\n",
              "      <td>1</td>\n",
              "      <td>-1</td>\n",
              "      <td>-1</td>\n",
              "      <td>0</td>\n",
              "      <td>-1</td>\n",
              "      <td>1</td>\n",
              "      <td>0</td>\n",
              "      <td>1</td>\n",
              "      <td>-1</td>\n",
              "    </tr>\n",
              "    <tr>\n",
              "      <th>8</th>\n",
              "      <td>1</td>\n",
              "      <td>0</td>\n",
              "      <td>-1</td>\n",
              "      <td>1</td>\n",
              "      <td>1</td>\n",
              "      <td>-1</td>\n",
              "      <td>1</td>\n",
              "      <td>1</td>\n",
              "      <td>-1</td>\n",
              "      <td>1</td>\n",
              "      <td>1</td>\n",
              "      <td>-1</td>\n",
              "      <td>1</td>\n",
              "      <td>0</td>\n",
              "      <td>1</td>\n",
              "      <td>-1</td>\n",
              "      <td>1</td>\n",
              "      <td>1</td>\n",
              "      <td>0</td>\n",
              "      <td>1</td>\n",
              "      <td>1</td>\n",
              "      <td>1</td>\n",
              "      <td>1</td>\n",
              "      <td>1</td>\n",
              "      <td>-1</td>\n",
              "      <td>1</td>\n",
              "      <td>1</td>\n",
              "      <td>1</td>\n",
              "      <td>0</td>\n",
              "      <td>1</td>\n",
              "      <td>1</td>\n",
              "    </tr>\n",
              "    <tr>\n",
              "      <th>9</th>\n",
              "      <td>1</td>\n",
              "      <td>1</td>\n",
              "      <td>-1</td>\n",
              "      <td>1</td>\n",
              "      <td>1</td>\n",
              "      <td>-1</td>\n",
              "      <td>-1</td>\n",
              "      <td>1</td>\n",
              "      <td>-1</td>\n",
              "      <td>1</td>\n",
              "      <td>1</td>\n",
              "      <td>1</td>\n",
              "      <td>1</td>\n",
              "      <td>0</td>\n",
              "      <td>1</td>\n",
              "      <td>-1</td>\n",
              "      <td>1</td>\n",
              "      <td>1</td>\n",
              "      <td>0</td>\n",
              "      <td>1</td>\n",
              "      <td>1</td>\n",
              "      <td>1</td>\n",
              "      <td>1</td>\n",
              "      <td>1</td>\n",
              "      <td>-1</td>\n",
              "      <td>0</td>\n",
              "      <td>-1</td>\n",
              "      <td>1</td>\n",
              "      <td>0</td>\n",
              "      <td>1</td>\n",
              "      <td>-1</td>\n",
              "    </tr>\n",
              "  </tbody>\n",
              "</table>\n",
              "</div>"
            ],
            "text/plain": [
              "   having_IP_Address  URL_Length  ...  Statistical_report  Result\n",
              "0                 -1           1  ...                  -1      -1\n",
              "1                  1           1  ...                   1      -1\n",
              "2                  1           0  ...                  -1      -1\n",
              "3                  1           0  ...                   1      -1\n",
              "4                  1           0  ...                   1       1\n",
              "5                 -1           0  ...                  -1       1\n",
              "6                  1           0  ...                  -1      -1\n",
              "7                  1           0  ...                   1      -1\n",
              "8                  1           0  ...                   1       1\n",
              "9                  1           1  ...                   1      -1\n",
              "\n",
              "[10 rows x 31 columns]"
            ]
          },
          "metadata": {
            "tags": []
          },
          "execution_count": 88
        }
      ]
    },
    {
      "cell_type": "markdown",
      "metadata": {
        "id": "jePmjEtKfZEq"
      },
      "source": [
        "### Displaying it in a bit easier manner"
      ]
    },
    {
      "cell_type": "code",
      "metadata": {
        "trusted": true,
        "id": "NEqqlUD7fZEr",
        "outputId": "bf342909-8f68-4a6a-dfaa-70eb823db589",
        "colab": {
          "base_uri": "https://localhost:8080/",
          "height": 1000
        }
      },
      "source": [
        "data.head(10).T"
      ],
      "execution_count": null,
      "outputs": [
        {
          "output_type": "execute_result",
          "data": {
            "text/html": [
              "<div>\n",
              "<style scoped>\n",
              "    .dataframe tbody tr th:only-of-type {\n",
              "        vertical-align: middle;\n",
              "    }\n",
              "\n",
              "    .dataframe tbody tr th {\n",
              "        vertical-align: top;\n",
              "    }\n",
              "\n",
              "    .dataframe thead th {\n",
              "        text-align: right;\n",
              "    }\n",
              "</style>\n",
              "<table border=\"1\" class=\"dataframe\">\n",
              "  <thead>\n",
              "    <tr style=\"text-align: right;\">\n",
              "      <th></th>\n",
              "      <th>0</th>\n",
              "      <th>1</th>\n",
              "      <th>2</th>\n",
              "      <th>3</th>\n",
              "      <th>4</th>\n",
              "      <th>5</th>\n",
              "      <th>6</th>\n",
              "      <th>7</th>\n",
              "      <th>8</th>\n",
              "      <th>9</th>\n",
              "    </tr>\n",
              "  </thead>\n",
              "  <tbody>\n",
              "    <tr>\n",
              "      <th>having_IP_Address</th>\n",
              "      <td>-1</td>\n",
              "      <td>1</td>\n",
              "      <td>1</td>\n",
              "      <td>1</td>\n",
              "      <td>1</td>\n",
              "      <td>-1</td>\n",
              "      <td>1</td>\n",
              "      <td>1</td>\n",
              "      <td>1</td>\n",
              "      <td>1</td>\n",
              "    </tr>\n",
              "    <tr>\n",
              "      <th>URL_Length</th>\n",
              "      <td>1</td>\n",
              "      <td>1</td>\n",
              "      <td>0</td>\n",
              "      <td>0</td>\n",
              "      <td>0</td>\n",
              "      <td>0</td>\n",
              "      <td>0</td>\n",
              "      <td>0</td>\n",
              "      <td>0</td>\n",
              "      <td>1</td>\n",
              "    </tr>\n",
              "    <tr>\n",
              "      <th>Shortining_Service</th>\n",
              "      <td>1</td>\n",
              "      <td>1</td>\n",
              "      <td>1</td>\n",
              "      <td>1</td>\n",
              "      <td>-1</td>\n",
              "      <td>-1</td>\n",
              "      <td>-1</td>\n",
              "      <td>1</td>\n",
              "      <td>-1</td>\n",
              "      <td>-1</td>\n",
              "    </tr>\n",
              "    <tr>\n",
              "      <th>having_At_Symbol</th>\n",
              "      <td>1</td>\n",
              "      <td>1</td>\n",
              "      <td>1</td>\n",
              "      <td>1</td>\n",
              "      <td>1</td>\n",
              "      <td>1</td>\n",
              "      <td>1</td>\n",
              "      <td>1</td>\n",
              "      <td>1</td>\n",
              "      <td>1</td>\n",
              "    </tr>\n",
              "    <tr>\n",
              "      <th>double_slash_redirecting</th>\n",
              "      <td>-1</td>\n",
              "      <td>1</td>\n",
              "      <td>1</td>\n",
              "      <td>1</td>\n",
              "      <td>1</td>\n",
              "      <td>-1</td>\n",
              "      <td>1</td>\n",
              "      <td>1</td>\n",
              "      <td>1</td>\n",
              "      <td>1</td>\n",
              "    </tr>\n",
              "    <tr>\n",
              "      <th>Prefix_Suffix</th>\n",
              "      <td>-1</td>\n",
              "      <td>-1</td>\n",
              "      <td>-1</td>\n",
              "      <td>-1</td>\n",
              "      <td>-1</td>\n",
              "      <td>-1</td>\n",
              "      <td>-1</td>\n",
              "      <td>-1</td>\n",
              "      <td>-1</td>\n",
              "      <td>-1</td>\n",
              "    </tr>\n",
              "    <tr>\n",
              "      <th>having_Sub_Domain</th>\n",
              "      <td>-1</td>\n",
              "      <td>0</td>\n",
              "      <td>-1</td>\n",
              "      <td>-1</td>\n",
              "      <td>1</td>\n",
              "      <td>1</td>\n",
              "      <td>-1</td>\n",
              "      <td>-1</td>\n",
              "      <td>1</td>\n",
              "      <td>-1</td>\n",
              "    </tr>\n",
              "    <tr>\n",
              "      <th>SSLfinal_State</th>\n",
              "      <td>-1</td>\n",
              "      <td>1</td>\n",
              "      <td>-1</td>\n",
              "      <td>-1</td>\n",
              "      <td>1</td>\n",
              "      <td>1</td>\n",
              "      <td>-1</td>\n",
              "      <td>-1</td>\n",
              "      <td>1</td>\n",
              "      <td>1</td>\n",
              "    </tr>\n",
              "    <tr>\n",
              "      <th>Domain_registeration_length</th>\n",
              "      <td>-1</td>\n",
              "      <td>-1</td>\n",
              "      <td>-1</td>\n",
              "      <td>1</td>\n",
              "      <td>-1</td>\n",
              "      <td>-1</td>\n",
              "      <td>1</td>\n",
              "      <td>1</td>\n",
              "      <td>-1</td>\n",
              "      <td>-1</td>\n",
              "    </tr>\n",
              "    <tr>\n",
              "      <th>Favicon</th>\n",
              "      <td>1</td>\n",
              "      <td>1</td>\n",
              "      <td>1</td>\n",
              "      <td>1</td>\n",
              "      <td>1</td>\n",
              "      <td>1</td>\n",
              "      <td>1</td>\n",
              "      <td>1</td>\n",
              "      <td>1</td>\n",
              "      <td>1</td>\n",
              "    </tr>\n",
              "    <tr>\n",
              "      <th>port</th>\n",
              "      <td>1</td>\n",
              "      <td>1</td>\n",
              "      <td>1</td>\n",
              "      <td>1</td>\n",
              "      <td>1</td>\n",
              "      <td>1</td>\n",
              "      <td>1</td>\n",
              "      <td>1</td>\n",
              "      <td>1</td>\n",
              "      <td>1</td>\n",
              "    </tr>\n",
              "    <tr>\n",
              "      <th>HTTPS_token</th>\n",
              "      <td>-1</td>\n",
              "      <td>-1</td>\n",
              "      <td>-1</td>\n",
              "      <td>-1</td>\n",
              "      <td>1</td>\n",
              "      <td>-1</td>\n",
              "      <td>1</td>\n",
              "      <td>-1</td>\n",
              "      <td>-1</td>\n",
              "      <td>1</td>\n",
              "    </tr>\n",
              "    <tr>\n",
              "      <th>Request_URL</th>\n",
              "      <td>1</td>\n",
              "      <td>1</td>\n",
              "      <td>1</td>\n",
              "      <td>-1</td>\n",
              "      <td>1</td>\n",
              "      <td>1</td>\n",
              "      <td>-1</td>\n",
              "      <td>-1</td>\n",
              "      <td>1</td>\n",
              "      <td>1</td>\n",
              "    </tr>\n",
              "    <tr>\n",
              "      <th>URL_of_Anchor</th>\n",
              "      <td>-1</td>\n",
              "      <td>0</td>\n",
              "      <td>0</td>\n",
              "      <td>0</td>\n",
              "      <td>0</td>\n",
              "      <td>0</td>\n",
              "      <td>-1</td>\n",
              "      <td>0</td>\n",
              "      <td>0</td>\n",
              "      <td>0</td>\n",
              "    </tr>\n",
              "    <tr>\n",
              "      <th>Links_in_tags</th>\n",
              "      <td>1</td>\n",
              "      <td>-1</td>\n",
              "      <td>-1</td>\n",
              "      <td>0</td>\n",
              "      <td>0</td>\n",
              "      <td>0</td>\n",
              "      <td>0</td>\n",
              "      <td>-1</td>\n",
              "      <td>1</td>\n",
              "      <td>1</td>\n",
              "    </tr>\n",
              "    <tr>\n",
              "      <th>SFH</th>\n",
              "      <td>-1</td>\n",
              "      <td>-1</td>\n",
              "      <td>-1</td>\n",
              "      <td>-1</td>\n",
              "      <td>-1</td>\n",
              "      <td>-1</td>\n",
              "      <td>-1</td>\n",
              "      <td>-1</td>\n",
              "      <td>-1</td>\n",
              "      <td>-1</td>\n",
              "    </tr>\n",
              "    <tr>\n",
              "      <th>Submitting_to_email</th>\n",
              "      <td>-1</td>\n",
              "      <td>1</td>\n",
              "      <td>-1</td>\n",
              "      <td>1</td>\n",
              "      <td>1</td>\n",
              "      <td>-1</td>\n",
              "      <td>-1</td>\n",
              "      <td>1</td>\n",
              "      <td>1</td>\n",
              "      <td>1</td>\n",
              "    </tr>\n",
              "    <tr>\n",
              "      <th>Abnormal_URL</th>\n",
              "      <td>-1</td>\n",
              "      <td>1</td>\n",
              "      <td>-1</td>\n",
              "      <td>1</td>\n",
              "      <td>1</td>\n",
              "      <td>-1</td>\n",
              "      <td>-1</td>\n",
              "      <td>1</td>\n",
              "      <td>1</td>\n",
              "      <td>1</td>\n",
              "    </tr>\n",
              "    <tr>\n",
              "      <th>Redirect</th>\n",
              "      <td>0</td>\n",
              "      <td>0</td>\n",
              "      <td>0</td>\n",
              "      <td>0</td>\n",
              "      <td>0</td>\n",
              "      <td>0</td>\n",
              "      <td>0</td>\n",
              "      <td>0</td>\n",
              "      <td>0</td>\n",
              "      <td>0</td>\n",
              "    </tr>\n",
              "    <tr>\n",
              "      <th>on_mouseover</th>\n",
              "      <td>1</td>\n",
              "      <td>1</td>\n",
              "      <td>1</td>\n",
              "      <td>1</td>\n",
              "      <td>-1</td>\n",
              "      <td>1</td>\n",
              "      <td>1</td>\n",
              "      <td>1</td>\n",
              "      <td>1</td>\n",
              "      <td>1</td>\n",
              "    </tr>\n",
              "    <tr>\n",
              "      <th>RightClick</th>\n",
              "      <td>1</td>\n",
              "      <td>1</td>\n",
              "      <td>1</td>\n",
              "      <td>1</td>\n",
              "      <td>1</td>\n",
              "      <td>1</td>\n",
              "      <td>1</td>\n",
              "      <td>1</td>\n",
              "      <td>1</td>\n",
              "      <td>1</td>\n",
              "    </tr>\n",
              "    <tr>\n",
              "      <th>popUpWidnow</th>\n",
              "      <td>1</td>\n",
              "      <td>1</td>\n",
              "      <td>1</td>\n",
              "      <td>1</td>\n",
              "      <td>-1</td>\n",
              "      <td>1</td>\n",
              "      <td>1</td>\n",
              "      <td>1</td>\n",
              "      <td>1</td>\n",
              "      <td>1</td>\n",
              "    </tr>\n",
              "    <tr>\n",
              "      <th>Iframe</th>\n",
              "      <td>1</td>\n",
              "      <td>1</td>\n",
              "      <td>1</td>\n",
              "      <td>1</td>\n",
              "      <td>1</td>\n",
              "      <td>1</td>\n",
              "      <td>1</td>\n",
              "      <td>1</td>\n",
              "      <td>1</td>\n",
              "      <td>1</td>\n",
              "    </tr>\n",
              "    <tr>\n",
              "      <th>age_of_domain</th>\n",
              "      <td>-1</td>\n",
              "      <td>-1</td>\n",
              "      <td>1</td>\n",
              "      <td>-1</td>\n",
              "      <td>-1</td>\n",
              "      <td>1</td>\n",
              "      <td>1</td>\n",
              "      <td>-1</td>\n",
              "      <td>1</td>\n",
              "      <td>1</td>\n",
              "    </tr>\n",
              "    <tr>\n",
              "      <th>DNSRecord</th>\n",
              "      <td>-1</td>\n",
              "      <td>-1</td>\n",
              "      <td>-1</td>\n",
              "      <td>-1</td>\n",
              "      <td>-1</td>\n",
              "      <td>1</td>\n",
              "      <td>-1</td>\n",
              "      <td>-1</td>\n",
              "      <td>-1</td>\n",
              "      <td>-1</td>\n",
              "    </tr>\n",
              "    <tr>\n",
              "      <th>web_traffic</th>\n",
              "      <td>-1</td>\n",
              "      <td>0</td>\n",
              "      <td>1</td>\n",
              "      <td>1</td>\n",
              "      <td>0</td>\n",
              "      <td>1</td>\n",
              "      <td>-1</td>\n",
              "      <td>0</td>\n",
              "      <td>1</td>\n",
              "      <td>0</td>\n",
              "    </tr>\n",
              "    <tr>\n",
              "      <th>Page_Rank</th>\n",
              "      <td>-1</td>\n",
              "      <td>-1</td>\n",
              "      <td>-1</td>\n",
              "      <td>-1</td>\n",
              "      <td>-1</td>\n",
              "      <td>-1</td>\n",
              "      <td>-1</td>\n",
              "      <td>-1</td>\n",
              "      <td>1</td>\n",
              "      <td>-1</td>\n",
              "    </tr>\n",
              "    <tr>\n",
              "      <th>Google_Index</th>\n",
              "      <td>1</td>\n",
              "      <td>1</td>\n",
              "      <td>1</td>\n",
              "      <td>1</td>\n",
              "      <td>1</td>\n",
              "      <td>1</td>\n",
              "      <td>1</td>\n",
              "      <td>1</td>\n",
              "      <td>1</td>\n",
              "      <td>1</td>\n",
              "    </tr>\n",
              "    <tr>\n",
              "      <th>Links_pointing_to_page</th>\n",
              "      <td>1</td>\n",
              "      <td>1</td>\n",
              "      <td>0</td>\n",
              "      <td>-1</td>\n",
              "      <td>1</td>\n",
              "      <td>-1</td>\n",
              "      <td>0</td>\n",
              "      <td>0</td>\n",
              "      <td>0</td>\n",
              "      <td>0</td>\n",
              "    </tr>\n",
              "    <tr>\n",
              "      <th>Statistical_report</th>\n",
              "      <td>-1</td>\n",
              "      <td>1</td>\n",
              "      <td>-1</td>\n",
              "      <td>1</td>\n",
              "      <td>1</td>\n",
              "      <td>-1</td>\n",
              "      <td>-1</td>\n",
              "      <td>1</td>\n",
              "      <td>1</td>\n",
              "      <td>1</td>\n",
              "    </tr>\n",
              "    <tr>\n",
              "      <th>Result</th>\n",
              "      <td>-1</td>\n",
              "      <td>-1</td>\n",
              "      <td>-1</td>\n",
              "      <td>-1</td>\n",
              "      <td>1</td>\n",
              "      <td>1</td>\n",
              "      <td>-1</td>\n",
              "      <td>-1</td>\n",
              "      <td>1</td>\n",
              "      <td>-1</td>\n",
              "    </tr>\n",
              "  </tbody>\n",
              "</table>\n",
              "</div>"
            ],
            "text/plain": [
              "                             0  1  2  3  4  5  6  7  8  9\n",
              "having_IP_Address           -1  1  1  1  1 -1  1  1  1  1\n",
              "URL_Length                   1  1  0  0  0  0  0  0  0  1\n",
              "Shortining_Service           1  1  1  1 -1 -1 -1  1 -1 -1\n",
              "having_At_Symbol             1  1  1  1  1  1  1  1  1  1\n",
              "double_slash_redirecting    -1  1  1  1  1 -1  1  1  1  1\n",
              "Prefix_Suffix               -1 -1 -1 -1 -1 -1 -1 -1 -1 -1\n",
              "having_Sub_Domain           -1  0 -1 -1  1  1 -1 -1  1 -1\n",
              "SSLfinal_State              -1  1 -1 -1  1  1 -1 -1  1  1\n",
              "Domain_registeration_length -1 -1 -1  1 -1 -1  1  1 -1 -1\n",
              "Favicon                      1  1  1  1  1  1  1  1  1  1\n",
              "port                         1  1  1  1  1  1  1  1  1  1\n",
              "HTTPS_token                 -1 -1 -1 -1  1 -1  1 -1 -1  1\n",
              "Request_URL                  1  1  1 -1  1  1 -1 -1  1  1\n",
              "URL_of_Anchor               -1  0  0  0  0  0 -1  0  0  0\n",
              "Links_in_tags                1 -1 -1  0  0  0  0 -1  1  1\n",
              "SFH                         -1 -1 -1 -1 -1 -1 -1 -1 -1 -1\n",
              "Submitting_to_email         -1  1 -1  1  1 -1 -1  1  1  1\n",
              "Abnormal_URL                -1  1 -1  1  1 -1 -1  1  1  1\n",
              "Redirect                     0  0  0  0  0  0  0  0  0  0\n",
              "on_mouseover                 1  1  1  1 -1  1  1  1  1  1\n",
              "RightClick                   1  1  1  1  1  1  1  1  1  1\n",
              "popUpWidnow                  1  1  1  1 -1  1  1  1  1  1\n",
              "Iframe                       1  1  1  1  1  1  1  1  1  1\n",
              "age_of_domain               -1 -1  1 -1 -1  1  1 -1  1  1\n",
              "DNSRecord                   -1 -1 -1 -1 -1  1 -1 -1 -1 -1\n",
              "web_traffic                 -1  0  1  1  0  1 -1  0  1  0\n",
              "Page_Rank                   -1 -1 -1 -1 -1 -1 -1 -1  1 -1\n",
              "Google_Index                 1  1  1  1  1  1  1  1  1  1\n",
              "Links_pointing_to_page       1  1  0 -1  1 -1  0  0  0  0\n",
              "Statistical_report          -1  1 -1  1  1 -1 -1  1  1  1\n",
              "Result                      -1 -1 -1 -1  1  1 -1 -1  1 -1"
            ]
          },
          "metadata": {
            "tags": []
          },
          "execution_count": 89
        }
      ]
    },
    {
      "cell_type": "markdown",
      "metadata": {
        "id": "Fg7MkNQhfZEw"
      },
      "source": [
        "**Quick observation**: The dataset is filled with -1, 0 and 1 values. Nothing else. So, we might not need fancy data scaling. "
      ]
    },
    {
      "cell_type": "markdown",
      "metadata": {
        "id": "SiUyqNg_fZEx"
      },
      "source": [
        "### Inspecting data dimensions and column names"
      ]
    },
    {
      "cell_type": "code",
      "metadata": {
        "trusted": true,
        "id": "E89X2kxDfZEy",
        "outputId": "063cefeb-d54e-44f2-c693-ee05de34ec5f",
        "colab": {
          "base_uri": "https://localhost:8080/"
        }
      },
      "source": [
        "# Data dimension\n",
        "data.shape"
      ],
      "execution_count": null,
      "outputs": [
        {
          "output_type": "execute_result",
          "data": {
            "text/plain": [
              "(11055, 31)"
            ]
          },
          "metadata": {
            "tags": []
          },
          "execution_count": 90
        }
      ]
    },
    {
      "cell_type": "code",
      "metadata": {
        "trusted": true,
        "id": "JzuzaIlzfZE3",
        "outputId": "a7711fd4-ca63-43b2-a2da-c868d616c055",
        "colab": {
          "base_uri": "https://localhost:8080/"
        }
      },
      "source": [
        "# Data columns\n",
        "data.columns"
      ],
      "execution_count": null,
      "outputs": [
        {
          "output_type": "execute_result",
          "data": {
            "text/plain": [
              "Index(['having_IP_Address', 'URL_Length', 'Shortining_Service',\n",
              "       'having_At_Symbol', 'double_slash_redirecting', 'Prefix_Suffix',\n",
              "       'having_Sub_Domain', 'SSLfinal_State', 'Domain_registeration_length',\n",
              "       'Favicon', 'port', 'HTTPS_token', 'Request_URL', 'URL_of_Anchor',\n",
              "       'Links_in_tags', 'SFH', 'Submitting_to_email', 'Abnormal_URL',\n",
              "       'Redirect', 'on_mouseover', 'RightClick', 'popUpWidnow', 'Iframe',\n",
              "       'age_of_domain', 'DNSRecord', 'web_traffic', 'Page_Rank',\n",
              "       'Google_Index', 'Links_pointing_to_page', 'Statistical_report',\n",
              "       'Result'],\n",
              "      dtype='object')"
            ]
          },
          "metadata": {
            "tags": []
          },
          "execution_count": 91
        }
      ]
    },
    {
      "cell_type": "markdown",
      "metadata": {
        "id": "FCWzhZlBfZE6"
      },
      "source": [
        "### Finding out the distribution of the class labels and preparing a report"
      ]
    },
    {
      "cell_type": "code",
      "metadata": {
        "trusted": true,
        "id": "AJTx8coXfZE7",
        "outputId": "7ea51cb4-78f1-4214-f380-a5dd02685cb5",
        "colab": {
          "base_uri": "https://localhost:8080/"
        }
      },
      "source": [
        "from collections import Counter\n",
        "\n",
        "classes = Counter(data['Result'].values)\n",
        "classes.most_common()"
      ],
      "execution_count": null,
      "outputs": [
        {
          "output_type": "execute_result",
          "data": {
            "text/plain": [
              "[(1, 6157), (-1, 4898)]"
            ]
          },
          "metadata": {
            "tags": []
          },
          "execution_count": 92
        }
      ]
    },
    {
      "cell_type": "code",
      "metadata": {
        "trusted": true,
        "id": "JVZX4ZtnfZE-",
        "outputId": "56c73e4e-2e47-4065-96ee-e44808590215",
        "colab": {
          "base_uri": "https://localhost:8080/",
          "height": 111
        }
      },
      "source": [
        "class_dist = pd.DataFrame(classes.most_common(), columns=['Class', 'Num_Observations'])\n",
        "class_dist"
      ],
      "execution_count": null,
      "outputs": [
        {
          "output_type": "execute_result",
          "data": {
            "text/html": [
              "<div>\n",
              "<style scoped>\n",
              "    .dataframe tbody tr th:only-of-type {\n",
              "        vertical-align: middle;\n",
              "    }\n",
              "\n",
              "    .dataframe tbody tr th {\n",
              "        vertical-align: top;\n",
              "    }\n",
              "\n",
              "    .dataframe thead th {\n",
              "        text-align: right;\n",
              "    }\n",
              "</style>\n",
              "<table border=\"1\" class=\"dataframe\">\n",
              "  <thead>\n",
              "    <tr style=\"text-align: right;\">\n",
              "      <th></th>\n",
              "      <th>Class</th>\n",
              "      <th>Num_Observations</th>\n",
              "    </tr>\n",
              "  </thead>\n",
              "  <tbody>\n",
              "    <tr>\n",
              "      <th>0</th>\n",
              "      <td>1</td>\n",
              "      <td>6157</td>\n",
              "    </tr>\n",
              "    <tr>\n",
              "      <th>1</th>\n",
              "      <td>-1</td>\n",
              "      <td>4898</td>\n",
              "    </tr>\n",
              "  </tbody>\n",
              "</table>\n",
              "</div>"
            ],
            "text/plain": [
              "   Class  Num_Observations\n",
              "0      1              6157\n",
              "1     -1              4898"
            ]
          },
          "metadata": {
            "tags": []
          },
          "execution_count": 93
        }
      ]
    },
    {
      "cell_type": "markdown",
      "metadata": {
        "id": "jhiS1KaDfZFD"
      },
      "source": [
        "### Preparing a basic bar plot of the distribution of the class labels"
      ]
    },
    {
      "cell_type": "code",
      "metadata": {
        "trusted": true,
        "id": "CdFUjBO2fZFE",
        "outputId": "3779d49b-7ed4-4466-9061-4f1bc422702f",
        "colab": {
          "base_uri": "https://localhost:8080/",
          "height": 519
        }
      },
      "source": [
        "import matplotlib.pyplot as plt\n",
        "%matplotlib inline\n",
        "plt.style.use('ggplot')\n",
        "\n",
        "subplot = class_dist.groupby('Class')['Num_Observations'].sum().plot(kind='barh', width=0.2, figsize=(10,8))\n",
        "\n",
        "subplot.set_title('Class distribution of the websites', fontsize = 15)\n",
        "subplot.set_xlabel('Number of Observations', fontsize = 14)\n",
        "subplot.set_ylabel('Class', fontsize = 14)\n",
        "\n",
        "for i in subplot.patches:\n",
        "    subplot.text(i.get_width()+0.1, i.get_y()+0.1, \\\n",
        "            str(i.get_width()), fontsize=11)"
      ],
      "execution_count": null,
      "outputs": [
        {
          "output_type": "display_data",
          "data": {
            "image/png": "[encoded data removed]",
            "text/plain": [
              "<Figure size 720x576 with 1 Axes>"
            ]
          },
          "metadata": {
            "tags": []
          }
        }
      ]
    },
    {
      "cell_type": "markdown",
      "metadata": {
        "id": "yYMMCntMfZFI"
      },
      "source": [
        "### Finding out the summary statistics from the data"
      ]
    },
    {
      "cell_type": "code",
      "metadata": {
        "trusted": true,
        "scrolled": false,
        "id": "1CEIsmJcfZFI",
        "outputId": "5d6cb216-56f7-4773-865b-7b9af70c553f",
        "colab": {
          "base_uri": "https://localhost:8080/",
          "height": 1000
        }
      },
      "source": [
        "data.describe().T"
      ],
      "execution_count": null,
      "outputs": [
        {
          "output_type": "execute_result",
          "data": {
            "text/html": [
              "<div>\n",
              "<style scoped>\n",
              "    .dataframe tbody tr th:only-of-type {\n",
              "        vertical-align: middle;\n",
              "    }\n",
              "\n",
              "    .dataframe tbody tr th {\n",
              "        vertical-align: top;\n",
              "    }\n",
              "\n",
              "    .dataframe thead th {\n",
              "        text-align: right;\n",
              "    }\n",
              "</style>\n",
              "<table border=\"1\" class=\"dataframe\">\n",
              "  <thead>\n",
              "    <tr style=\"text-align: right;\">\n",
              "      <th></th>\n",
              "      <th>count</th>\n",
              "      <th>mean</th>\n",
              "      <th>std</th>\n",
              "      <th>min</th>\n",
              "      <th>25%</th>\n",
              "      <th>50%</th>\n",
              "      <th>75%</th>\n",
              "      <th>max</th>\n",
              "    </tr>\n",
              "  </thead>\n",
              "  <tbody>\n",
              "    <tr>\n",
              "      <th>having_IP_Address</th>\n",
              "      <td>11055.0</td>\n",
              "      <td>0.313795</td>\n",
              "      <td>0.949534</td>\n",
              "      <td>-1.0</td>\n",
              "      <td>-1.0</td>\n",
              "      <td>1.0</td>\n",
              "      <td>1.0</td>\n",
              "      <td>1.0</td>\n",
              "    </tr>\n",
              "    <tr>\n",
              "      <th>URL_Length</th>\n",
              "      <td>11055.0</td>\n",
              "      <td>-0.633198</td>\n",
              "      <td>0.766095</td>\n",
              "      <td>-1.0</td>\n",
              "      <td>-1.0</td>\n",
              "      <td>-1.0</td>\n",
              "      <td>-1.0</td>\n",
              "      <td>1.0</td>\n",
              "    </tr>\n",
              "    <tr>\n",
              "      <th>Shortining_Service</th>\n",
              "      <td>11055.0</td>\n",
              "      <td>0.738761</td>\n",
              "      <td>0.673998</td>\n",
              "      <td>-1.0</td>\n",
              "      <td>1.0</td>\n",
              "      <td>1.0</td>\n",
              "      <td>1.0</td>\n",
              "      <td>1.0</td>\n",
              "    </tr>\n",
              "    <tr>\n",
              "      <th>having_At_Symbol</th>\n",
              "      <td>11055.0</td>\n",
              "      <td>0.700588</td>\n",
              "      <td>0.713598</td>\n",
              "      <td>-1.0</td>\n",
              "      <td>1.0</td>\n",
              "      <td>1.0</td>\n",
              "      <td>1.0</td>\n",
              "      <td>1.0</td>\n",
              "    </tr>\n",
              "    <tr>\n",
              "      <th>double_slash_redirecting</th>\n",
              "      <td>11055.0</td>\n",
              "      <td>0.741474</td>\n",
              "      <td>0.671011</td>\n",
              "      <td>-1.0</td>\n",
              "      <td>1.0</td>\n",
              "      <td>1.0</td>\n",
              "      <td>1.0</td>\n",
              "      <td>1.0</td>\n",
              "    </tr>\n",
              "    <tr>\n",
              "      <th>Prefix_Suffix</th>\n",
              "      <td>11055.0</td>\n",
              "      <td>-0.734962</td>\n",
              "      <td>0.678139</td>\n",
              "      <td>-1.0</td>\n",
              "      <td>-1.0</td>\n",
              "      <td>-1.0</td>\n",
              "      <td>-1.0</td>\n",
              "      <td>1.0</td>\n",
              "    </tr>\n",
              "    <tr>\n",
              "      <th>having_Sub_Domain</th>\n",
              "      <td>11055.0</td>\n",
              "      <td>0.063953</td>\n",
              "      <td>0.817518</td>\n",
              "      <td>-1.0</td>\n",
              "      <td>-1.0</td>\n",
              "      <td>0.0</td>\n",
              "      <td>1.0</td>\n",
              "      <td>1.0</td>\n",
              "    </tr>\n",
              "    <tr>\n",
              "      <th>SSLfinal_State</th>\n",
              "      <td>11055.0</td>\n",
              "      <td>0.250927</td>\n",
              "      <td>0.911892</td>\n",
              "      <td>-1.0</td>\n",
              "      <td>-1.0</td>\n",
              "      <td>1.0</td>\n",
              "      <td>1.0</td>\n",
              "      <td>1.0</td>\n",
              "    </tr>\n",
              "    <tr>\n",
              "      <th>Domain_registeration_length</th>\n",
              "      <td>11055.0</td>\n",
              "      <td>-0.336771</td>\n",
              "      <td>0.941629</td>\n",
              "      <td>-1.0</td>\n",
              "      <td>-1.0</td>\n",
              "      <td>-1.0</td>\n",
              "      <td>1.0</td>\n",
              "      <td>1.0</td>\n",
              "    </tr>\n",
              "    <tr>\n",
              "      <th>Favicon</th>\n",
              "      <td>11055.0</td>\n",
              "      <td>0.628584</td>\n",
              "      <td>0.777777</td>\n",
              "      <td>-1.0</td>\n",
              "      <td>1.0</td>\n",
              "      <td>1.0</td>\n",
              "      <td>1.0</td>\n",
              "      <td>1.0</td>\n",
              "    </tr>\n",
              "    <tr>\n",
              "      <th>port</th>\n",
              "      <td>11055.0</td>\n",
              "      <td>0.728268</td>\n",
              "      <td>0.685324</td>\n",
              "      <td>-1.0</td>\n",
              "      <td>1.0</td>\n",
              "      <td>1.0</td>\n",
              "      <td>1.0</td>\n",
              "      <td>1.0</td>\n",
              "    </tr>\n",
              "    <tr>\n",
              "      <th>HTTPS_token</th>\n",
              "      <td>11055.0</td>\n",
              "      <td>0.675079</td>\n",
              "      <td>0.737779</td>\n",
              "      <td>-1.0</td>\n",
              "      <td>1.0</td>\n",
              "      <td>1.0</td>\n",
              "      <td>1.0</td>\n",
              "      <td>1.0</td>\n",
              "    </tr>\n",
              "    <tr>\n",
              "      <th>Request_URL</th>\n",
              "      <td>11055.0</td>\n",
              "      <td>0.186793</td>\n",
              "      <td>0.982444</td>\n",
              "      <td>-1.0</td>\n",
              "      <td>-1.0</td>\n",
              "      <td>1.0</td>\n",
              "      <td>1.0</td>\n",
              "      <td>1.0</td>\n",
              "    </tr>\n",
              "    <tr>\n",
              "      <th>URL_of_Anchor</th>\n",
              "      <td>11055.0</td>\n",
              "      <td>-0.076526</td>\n",
              "      <td>0.715138</td>\n",
              "      <td>-1.0</td>\n",
              "      <td>-1.0</td>\n",
              "      <td>0.0</td>\n",
              "      <td>0.0</td>\n",
              "      <td>1.0</td>\n",
              "    </tr>\n",
              "    <tr>\n",
              "      <th>Links_in_tags</th>\n",
              "      <td>11055.0</td>\n",
              "      <td>-0.118137</td>\n",
              "      <td>0.763973</td>\n",
              "      <td>-1.0</td>\n",
              "      <td>-1.0</td>\n",
              "      <td>0.0</td>\n",
              "      <td>0.0</td>\n",
              "      <td>1.0</td>\n",
              "    </tr>\n",
              "    <tr>\n",
              "      <th>SFH</th>\n",
              "      <td>11055.0</td>\n",
              "      <td>-0.595749</td>\n",
              "      <td>0.759143</td>\n",
              "      <td>-1.0</td>\n",
              "      <td>-1.0</td>\n",
              "      <td>-1.0</td>\n",
              "      <td>-1.0</td>\n",
              "      <td>1.0</td>\n",
              "    </tr>\n",
              "    <tr>\n",
              "      <th>Submitting_to_email</th>\n",
              "      <td>11055.0</td>\n",
              "      <td>0.635640</td>\n",
              "      <td>0.772021</td>\n",
              "      <td>-1.0</td>\n",
              "      <td>1.0</td>\n",
              "      <td>1.0</td>\n",
              "      <td>1.0</td>\n",
              "      <td>1.0</td>\n",
              "    </tr>\n",
              "    <tr>\n",
              "      <th>Abnormal_URL</th>\n",
              "      <td>11055.0</td>\n",
              "      <td>0.705292</td>\n",
              "      <td>0.708949</td>\n",
              "      <td>-1.0</td>\n",
              "      <td>1.0</td>\n",
              "      <td>1.0</td>\n",
              "      <td>1.0</td>\n",
              "      <td>1.0</td>\n",
              "    </tr>\n",
              "    <tr>\n",
              "      <th>Redirect</th>\n",
              "      <td>11055.0</td>\n",
              "      <td>0.115694</td>\n",
              "      <td>0.319872</td>\n",
              "      <td>0.0</td>\n",
              "      <td>0.0</td>\n",
              "      <td>0.0</td>\n",
              "      <td>0.0</td>\n",
              "      <td>1.0</td>\n",
              "    </tr>\n",
              "    <tr>\n",
              "      <th>on_mouseover</th>\n",
              "      <td>11055.0</td>\n",
              "      <td>0.762099</td>\n",
              "      <td>0.647490</td>\n",
              "      <td>-1.0</td>\n",
              "      <td>1.0</td>\n",
              "      <td>1.0</td>\n",
              "      <td>1.0</td>\n",
              "      <td>1.0</td>\n",
              "    </tr>\n",
              "    <tr>\n",
              "      <th>RightClick</th>\n",
              "      <td>11055.0</td>\n",
              "      <td>0.913885</td>\n",
              "      <td>0.405991</td>\n",
              "      <td>-1.0</td>\n",
              "      <td>1.0</td>\n",
              "      <td>1.0</td>\n",
              "      <td>1.0</td>\n",
              "      <td>1.0</td>\n",
              "    </tr>\n",
              "    <tr>\n",
              "      <th>popUpWidnow</th>\n",
              "      <td>11055.0</td>\n",
              "      <td>0.613388</td>\n",
              "      <td>0.789818</td>\n",
              "      <td>-1.0</td>\n",
              "      <td>1.0</td>\n",
              "      <td>1.0</td>\n",
              "      <td>1.0</td>\n",
              "      <td>1.0</td>\n",
              "    </tr>\n",
              "    <tr>\n",
              "      <th>Iframe</th>\n",
              "      <td>11055.0</td>\n",
              "      <td>0.816915</td>\n",
              "      <td>0.576784</td>\n",
              "      <td>-1.0</td>\n",
              "      <td>1.0</td>\n",
              "      <td>1.0</td>\n",
              "      <td>1.0</td>\n",
              "      <td>1.0</td>\n",
              "    </tr>\n",
              "    <tr>\n",
              "      <th>age_of_domain</th>\n",
              "      <td>11055.0</td>\n",
              "      <td>0.061239</td>\n",
              "      <td>0.998168</td>\n",
              "      <td>-1.0</td>\n",
              "      <td>-1.0</td>\n",
              "      <td>1.0</td>\n",
              "      <td>1.0</td>\n",
              "      <td>1.0</td>\n",
              "    </tr>\n",
              "    <tr>\n",
              "      <th>DNSRecord</th>\n",
              "      <td>11055.0</td>\n",
              "      <td>0.377114</td>\n",
              "      <td>0.926209</td>\n",
              "      <td>-1.0</td>\n",
              "      <td>-1.0</td>\n",
              "      <td>1.0</td>\n",
              "      <td>1.0</td>\n",
              "      <td>1.0</td>\n",
              "    </tr>\n",
              "    <tr>\n",
              "      <th>web_traffic</th>\n",
              "      <td>11055.0</td>\n",
              "      <td>0.287291</td>\n",
              "      <td>0.827733</td>\n",
              "      <td>-1.0</td>\n",
              "      <td>0.0</td>\n",
              "      <td>1.0</td>\n",
              "      <td>1.0</td>\n",
              "      <td>1.0</td>\n",
              "    </tr>\n",
              "    <tr>\n",
              "      <th>Page_Rank</th>\n",
              "      <td>11055.0</td>\n",
              "      <td>-0.483673</td>\n",
              "      <td>0.875289</td>\n",
              "      <td>-1.0</td>\n",
              "      <td>-1.0</td>\n",
              "      <td>-1.0</td>\n",
              "      <td>1.0</td>\n",
              "      <td>1.0</td>\n",
              "    </tr>\n",
              "    <tr>\n",
              "      <th>Google_Index</th>\n",
              "      <td>11055.0</td>\n",
              "      <td>0.721574</td>\n",
              "      <td>0.692369</td>\n",
              "      <td>-1.0</td>\n",
              "      <td>1.0</td>\n",
              "      <td>1.0</td>\n",
              "      <td>1.0</td>\n",
              "      <td>1.0</td>\n",
              "    </tr>\n",
              "    <tr>\n",
              "      <th>Links_pointing_to_page</th>\n",
              "      <td>11055.0</td>\n",
              "      <td>0.344007</td>\n",
              "      <td>0.569944</td>\n",
              "      <td>-1.0</td>\n",
              "      <td>0.0</td>\n",
              "      <td>0.0</td>\n",
              "      <td>1.0</td>\n",
              "      <td>1.0</td>\n",
              "    </tr>\n",
              "    <tr>\n",
              "      <th>Statistical_report</th>\n",
              "      <td>11055.0</td>\n",
              "      <td>0.719584</td>\n",
              "      <td>0.694437</td>\n",
              "      <td>-1.0</td>\n",
              "      <td>1.0</td>\n",
              "      <td>1.0</td>\n",
              "      <td>1.0</td>\n",
              "      <td>1.0</td>\n",
              "    </tr>\n",
              "    <tr>\n",
              "      <th>Result</th>\n",
              "      <td>11055.0</td>\n",
              "      <td>0.113885</td>\n",
              "      <td>0.993539</td>\n",
              "      <td>-1.0</td>\n",
              "      <td>-1.0</td>\n",
              "      <td>1.0</td>\n",
              "      <td>1.0</td>\n",
              "      <td>1.0</td>\n",
              "    </tr>\n",
              "  </tbody>\n",
              "</table>\n",
              "</div>"
            ],
            "text/plain": [
              "                               count      mean       std  ...  50%  75%  max\n",
              "having_IP_Address            11055.0  0.313795  0.949534  ...  1.0  1.0  1.0\n",
              "URL_Length                   11055.0 -0.633198  0.766095  ... -1.0 -1.0  1.0\n",
              "Shortining_Service           11055.0  0.738761  0.673998  ...  1.0  1.0  1.0\n",
              "having_At_Symbol             11055.0  0.700588  0.713598  ...  1.0  1.0  1.0\n",
              "double_slash_redirecting     11055.0  0.741474  0.671011  ...  1.0  1.0  1.0\n",
              "Prefix_Suffix                11055.0 -0.734962  0.678139  ... -1.0 -1.0  1.0\n",
              "having_Sub_Domain            11055.0  0.063953  0.817518  ...  0.0  1.0  1.0\n",
              "SSLfinal_State               11055.0  0.250927  0.911892  ...  1.0  1.0  1.0\n",
              "Domain_registeration_length  11055.0 -0.336771  0.941629  ... -1.0  1.0  1.0\n",
              "Favicon                      11055.0  0.628584  0.777777  ...  1.0  1.0  1.0\n",
              "port                         11055.0  0.728268  0.685324  ...  1.0  1.0  1.0\n",
              "HTTPS_token                  11055.0  0.675079  0.737779  ...  1.0  1.0  1.0\n",
              "Request_URL                  11055.0  0.186793  0.982444  ...  1.0  1.0  1.0\n",
              "URL_of_Anchor                11055.0 -0.076526  0.715138  ...  0.0  0.0  1.0\n",
              "Links_in_tags                11055.0 -0.118137  0.763973  ...  0.0  0.0  1.0\n",
              "SFH                          11055.0 -0.595749  0.759143  ... -1.0 -1.0  1.0\n",
              "Submitting_to_email          11055.0  0.635640  0.772021  ...  1.0  1.0  1.0\n",
              "Abnormal_URL                 11055.0  0.705292  0.708949  ...  1.0  1.0  1.0\n",
              "Redirect                     11055.0  0.115694  0.319872  ...  0.0  0.0  1.0\n",
              "on_mouseover                 11055.0  0.762099  0.647490  ...  1.0  1.0  1.0\n",
              "RightClick                   11055.0  0.913885  0.405991  ...  1.0  1.0  1.0\n",
              "popUpWidnow                  11055.0  0.613388  0.789818  ...  1.0  1.0  1.0\n",
              "Iframe                       11055.0  0.816915  0.576784  ...  1.0  1.0  1.0\n",
              "age_of_domain                11055.0  0.061239  0.998168  ...  1.0  1.0  1.0\n",
              "DNSRecord                    11055.0  0.377114  0.926209  ...  1.0  1.0  1.0\n",
              "web_traffic                  11055.0  0.287291  0.827733  ...  1.0  1.0  1.0\n",
              "Page_Rank                    11055.0 -0.483673  0.875289  ... -1.0  1.0  1.0\n",
              "Google_Index                 11055.0  0.721574  0.692369  ...  1.0  1.0  1.0\n",
              "Links_pointing_to_page       11055.0  0.344007  0.569944  ...  0.0  1.0  1.0\n",
              "Statistical_report           11055.0  0.719584  0.694437  ...  1.0  1.0  1.0\n",
              "Result                       11055.0  0.113885  0.993539  ...  1.0  1.0  1.0\n",
              "\n",
              "[31 rows x 8 columns]"
            ]
          },
          "metadata": {
            "tags": []
          },
          "execution_count": 95
        }
      ]
    },
    {
      "cell_type": "markdown",
      "metadata": {
        "id": "rB5FcE58fZFM"
      },
      "source": [
        "### Finding out the basic information of the columns present in the dataset"
      ]
    },
    {
      "cell_type": "code",
      "metadata": {
        "trusted": true,
        "id": "qQJs1GcEfZFM",
        "outputId": "73b7f57f-488d-41c6-af6e-3ef211f2aafe",
        "colab": {
          "base_uri": "https://localhost:8080/"
        }
      },
      "source": [
        "data.info()"
      ],
      "execution_count": null,
      "outputs": [
        {
          "output_type": "stream",
          "text": [
            "<class 'pandas.core.frame.DataFrame'>\n",
            "RangeIndex: 11055 entries, 0 to 11054\n",
            "Data columns (total 31 columns):\n",
            " #   Column                       Non-Null Count  Dtype\n",
            "---  ------                       --------------  -----\n",
            " 0   having_IP_Address            11055 non-null  int64\n",
            " 1   URL_Length                   11055 non-null  int64\n",
            " 2   Shortining_Service           11055 non-null  int64\n",
            " 3   having_At_Symbol             11055 non-null  int64\n",
            " 4   double_slash_redirecting     11055 non-null  int64\n",
            " 5   Prefix_Suffix                11055 non-null  int64\n",
            " 6   having_Sub_Domain            11055 non-null  int64\n",
            " 7   SSLfinal_State               11055 non-null  int64\n",
            " 8   Domain_registeration_length  11055 non-null  int64\n",
            " 9   Favicon                      11055 non-null  int64\n",
            " 10  port                         11055 non-null  int64\n",
            " 11  HTTPS_token                  11055 non-null  int64\n",
            " 12  Request_URL                  11055 non-null  int64\n",
            " 13  URL_of_Anchor                11055 non-null  int64\n",
            " 14  Links_in_tags                11055 non-null  int64\n",
            " 15  SFH                          11055 non-null  int64\n",
            " 16  Submitting_to_email          11055 non-null  int64\n",
            " 17  Abnormal_URL                 11055 non-null  int64\n",
            " 18  Redirect                     11055 non-null  int64\n",
            " 19  on_mouseover                 11055 non-null  int64\n",
            " 20  RightClick                   11055 non-null  int64\n",
            " 21  popUpWidnow                  11055 non-null  int64\n",
            " 22  Iframe                       11055 non-null  int64\n",
            " 23  age_of_domain                11055 non-null  int64\n",
            " 24  DNSRecord                    11055 non-null  int64\n",
            " 25  web_traffic                  11055 non-null  int64\n",
            " 26  Page_Rank                    11055 non-null  int64\n",
            " 27  Google_Index                 11055 non-null  int64\n",
            " 28  Links_pointing_to_page       11055 non-null  int64\n",
            " 29  Statistical_report           11055 non-null  int64\n",
            " 30  Result                       11055 non-null  int64\n",
            "dtypes: int64(31)\n",
            "memory usage: 2.6 MB\n"
          ],
          "name": "stdout"
        }
      ]
    },
    {
      "cell_type": "markdown",
      "metadata": {
        "id": "3YGVgAFEfZFP"
      },
      "source": [
        "### Mapping the `-1` values to `0` in the class labels"
      ]
    },
    {
      "cell_type": "code",
      "metadata": {
        "trusted": true,
        "id": "Ok0kFp-xfZFQ",
        "outputId": "80a5d0ec-0ee5-42b4-f48d-c8ef06782e1e",
        "colab": {
          "base_uri": "https://localhost:8080/"
        }
      },
      "source": [
        "data.rename(columns={'Result': 'Class'}, inplace=True)\n",
        "\n",
        "data['Class'] = data['Class'].map({-1:0, 1:1})\n",
        "data['Class'].unique()"
      ],
      "execution_count": null,
      "outputs": [
        {
          "output_type": "execute_result",
          "data": {
            "text/plain": [
              "array([0, 1])"
            ]
          },
          "metadata": {
            "tags": []
          },
          "execution_count": 97
        }
      ]
    },
    {
      "cell_type": "markdown",
      "metadata": {
        "id": "ayqeSyXjfZFU"
      },
      "source": [
        "### Inspection of null values in the dataset"
      ]
    },
    {
      "cell_type": "code",
      "metadata": {
        "trusted": true,
        "id": "qX9NjNDvfZFa",
        "outputId": "51fc1a81-ea54-47e4-dde8-28e73e436caf",
        "colab": {
          "base_uri": "https://localhost:8080/"
        }
      },
      "source": [
        "data.isna().sum()"
      ],
      "execution_count": null,
      "outputs": [
        {
          "output_type": "execute_result",
          "data": {
            "text/plain": [
              "having_IP_Address              0\n",
              "URL_Length                     0\n",
              "Shortining_Service             0\n",
              "having_At_Symbol               0\n",
              "double_slash_redirecting       0\n",
              "Prefix_Suffix                  0\n",
              "having_Sub_Domain              0\n",
              "SSLfinal_State                 0\n",
              "Domain_registeration_length    0\n",
              "Favicon                        0\n",
              "port                           0\n",
              "HTTPS_token                    0\n",
              "Request_URL                    0\n",
              "URL_of_Anchor                  0\n",
              "Links_in_tags                  0\n",
              "SFH                            0\n",
              "Submitting_to_email            0\n",
              "Abnormal_URL                   0\n",
              "Redirect                       0\n",
              "on_mouseover                   0\n",
              "RightClick                     0\n",
              "popUpWidnow                    0\n",
              "Iframe                         0\n",
              "age_of_domain                  0\n",
              "DNSRecord                      0\n",
              "web_traffic                    0\n",
              "Page_Rank                      0\n",
              "Google_Index                   0\n",
              "Links_pointing_to_page         0\n",
              "Statistical_report             0\n",
              "Class                          0\n",
              "dtype: int64"
            ]
          },
          "metadata": {
            "tags": []
          },
          "execution_count": 98
        }
      ]
    },
    {
      "cell_type": "markdown",
      "metadata": {
        "id": "C_fgKYNzfZFf"
      },
      "source": [
        "### Data splitting"
      ]
    },
    {
      "cell_type": "code",
      "metadata": {
        "trusted": true,
        "id": "0FKH0eNNfZFf"
      },
      "source": [
        "from sklearn.model_selection import train_test_split\n",
        "\n",
        "X = data.iloc[:,0:30].values.astype(int)\n",
        "y = data.iloc[:,30].values.astype(int)\n",
        "\n",
        "X_train, X_test, y_train, y_test = train_test_split(X, y, test_size=0.2, stratify=y, random_state=np.random.seed(7))"
      ],
      "execution_count": null,
      "outputs": []
    },
    {
      "cell_type": "markdown",
      "metadata": {
        "id": "F_SOMwpqfZFj"
      },
      "source": [
        "### Fitting the training data to the Logistic Regression classifier\n",
        "\n",
        "The  dataset  contains  all  of  its  values  in -1,  0  and  1.  So,  linear  models  like  Logistic  Regression  are specifically  good  at  figuring  out  the  relationships  between  the  features  of  the  dataset  which  only contain -1, 0 and 1 values. "
      ]
    },
    {
      "cell_type": "code",
      "metadata": {
        "trusted": true,
        "id": "4gEFxNx1fZFk",
        "outputId": "a5914048-1926-42ba-ae26-01b9c7a36016",
        "colab": {
          "base_uri": "https://localhost:8080/"
        }
      },
      "source": [
        "from sklearn.linear_model import LogisticRegression\n",
        "\n",
        "logreg = LogisticRegression()\n",
        "logreg.fit(X_train, y_train)"
      ],
      "execution_count": null,
      "outputs": [
        {
          "output_type": "execute_result",
          "data": {
            "text/plain": [
              "LogisticRegression(C=1.0, class_weight=None, dual=False, fit_intercept=True,\n",
              "                   intercept_scaling=1, l1_ratio=None, max_iter=100,\n",
              "                   multi_class='auto', n_jobs=None, penalty='l2',\n",
              "                   random_state=None, solver='lbfgs', tol=0.0001, verbose=0,\n",
              "                   warm_start=False)"
            ]
          },
          "metadata": {
            "tags": []
          },
          "execution_count": 100
        }
      ]
    },
    {
      "cell_type": "markdown",
      "metadata": {
        "id": "NSaoNs0ZfZFo"
      },
      "source": [
        "### Model evaluation"
      ]
    },
    {
      "cell_type": "code",
      "metadata": {
        "trusted": true,
        "id": "SrekI6RvfZFo",
        "outputId": "540472d2-787e-4532-ffae-426de9eaff5f",
        "colab": {
          "base_uri": "https://localhost:8080/"
        }
      },
      "source": [
        "from sklearn.metrics import accuracy_score, classification_report\n",
        "\n",
        "print('Accuracy score of the Logistic Regression classifier with default hyperparameter values {0:.2f}%'.format(accuracy_score(y_test, logreg.predict(X_test))*100.))\n",
        "print('\\n')\n",
        "print('----Classification report of the Logistic Regression classifier with default hyperparameter value----')\n",
        "print('\\n')\n",
        "print(classification_report(y_test, logreg.predict(X_test), target_names=['Phishing Websites', 'Normal Websites']))"
      ],
      "execution_count": null,
      "outputs": [
        {
          "output_type": "stream",
          "text": [
            "Accuracy score of the Logistic Regression classifier with default hyperparameter values 93.13%\n",
            "\n",
            "\n",
            "----Classification report of the Logistic Regression classifier with default hyperparameter value----\n",
            "\n",
            "\n",
            "                   precision    recall  f1-score   support\n",
            "\n",
            "Phishing Websites       0.93      0.92      0.92       980\n",
            "  Normal Websites       0.93      0.94      0.94      1231\n",
            "\n",
            "         accuracy                           0.93      2211\n",
            "        macro avg       0.93      0.93      0.93      2211\n",
            "     weighted avg       0.93      0.93      0.93      2211\n",
            "\n"
          ],
          "name": "stdout"
        }
      ]
    },
    {
      "cell_type": "code",
      "metadata": {
        "id": "QP68apVPXdZO",
        "outputId": "1135d6d6-612b-4c43-bdb8-b585d53fdaa2",
        "colab": {
          "base_uri": "https://localhost:8080/"
        }
      },
      "source": [
        "from sklearn.metrics import matthews_corrcoef\n",
        "print(matthews_corrcoef(y_test, logreg.predict(X_test)))"
      ],
      "execution_count": null,
      "outputs": [
        {
          "output_type": "stream",
          "text": [
            "0.8605886189866749\n"
          ],
          "name": "stdout"
        }
      ]
    },
    {
      "cell_type": "code",
      "metadata": {
        "id": "NjdkaGRCA7cC"
      },
      "source": [
        "# import pickle\n",
        "\n",
        "# pickle.dump(logreg, open('logreg.pkl', 'wb'))\n",
        "# logreg = pickle.load(open('logreg.pkl', 'rb'))"
      ],
      "execution_count": null,
      "outputs": []
    },
    {
      "cell_type": "code",
      "metadata": {
        "id": "yuee3Wj8MqXX",
        "outputId": "8f3f6e37-90ee-4097-ab69-47425b980bd4",
        "colab": {
          "base_uri": "https://localhost:8080/"
        }
      },
      "source": [
        "# X_new = np.array([1, 0, 1, 1, 1, 1, 1, 1, 1, -1, 1, 1, 1, -1, 0, 0, 1, -1, -1, -1, -1, -1, 1, 1, 1, 1, 1, 1, -1, 1]).reshape(1,-1)\n",
        "# logreg.predict(X_new)"
      ],
      "execution_count": null,
      "outputs": [
        {
          "output_type": "execute_result",
          "data": {
            "text/plain": [
              "array([1])"
            ]
          },
          "metadata": {
            "tags": []
          },
          "execution_count": 128
        }
      ]
    },
    {
      "cell_type": "markdown",
      "metadata": {
        "id": "N6Cwd4nTfZFr"
      },
      "source": [
        "### Hyperparameter tuning with random searching"
      ]
    },
    {
      "cell_type": "code",
      "metadata": {
        "trusted": true,
        "id": "vKHI8W5tfZFs"
      },
      "source": [
        "# Import GridSearchCV\n",
        "from sklearn.model_selection import RandomizedSearchCV\n",
        "\n",
        "# Define the grid of values\n",
        "penalty = ['l1', 'l2']\n",
        "C = [0.8, 0.9, 1.0]\n",
        "tol = [0.01, 0.001 ,0.0001]\n",
        "max_iter = [100, 150, 200, 250]\n",
        "\n",
        "# Create a dictionary where tol and max_iter are keys and the lists of their values are the corresponding values\n",
        "param_grid = dict(penalty=penalty, C=C, tol=tol, max_iter=max_iter)"
      ],
      "execution_count": null,
      "outputs": []
    },
    {
      "cell_type": "code",
      "metadata": {
        "trusted": true,
        "id": "koO79wAufZFx",
        "outputId": "576fd67b-f5ee-4e37-b2be-5cebaba36094",
        "colab": {
          "base_uri": "https://localhost:8080/"
        }
      },
      "source": [
        "# Instantiate RandomizedSearchCV with the required parameters\n",
        "random_model = RandomizedSearchCV(estimator=logreg, param_distributions=param_grid, cv=5)\n",
        "\n",
        "# Fit random_model to the data\n",
        "random_model_result = random_model.fit(X_train, y_train)\n",
        "\n",
        "# Summarize results\n",
        "best_score, best_params = random_model_result.best_score_, random_model_result.best_params_\n",
        "print(\"Best score: %.2f using %s\" % (best_score*100., best_params))"
      ],
      "execution_count": null,
      "outputs": [
        {
          "output_type": "stream",
          "text": [
            "Best score: 92.55 using {'tol': 0.001, 'penalty': 'l2', 'max_iter': 100, 'C': 1.0}\n"
          ],
          "name": "stdout"
        }
      ]
    },
    {
      "cell_type": "markdown",
      "metadata": {
        "id": "QhswhgYbTf3J"
      },
      "source": [
        "Random Forest"
      ]
    },
    {
      "cell_type": "code",
      "metadata": {
        "id": "-rfoOxnmTfOx",
        "outputId": "be2a4251-8637-46ff-8180-2b85bac5056c",
        "colab": {
          "base_uri": "https://localhost:8080/"
        }
      },
      "source": [
        "from sklearn.ensemble import RandomForestClassifier\n",
        "clf = RandomForestClassifier(random_state=0)\n",
        "clf.fit(X_train, y_train)"
      ],
      "execution_count": null,
      "outputs": [
        {
          "output_type": "execute_result",
          "data": {
            "text/plain": [
              "RandomForestClassifier(bootstrap=True, ccp_alpha=0.0, class_weight=None,\n",
              "                       criterion='gini', max_depth=None, max_features='auto',\n",
              "                       max_leaf_nodes=None, max_samples=None,\n",
              "                       min_impurity_decrease=0.0, min_impurity_split=None,\n",
              "                       min_samples_leaf=1, min_samples_split=2,\n",
              "                       min_weight_fraction_leaf=0.0, n_estimators=100,\n",
              "                       n_jobs=None, oob_score=False, random_state=0, verbose=0,\n",
              "                       warm_start=False)"
            ]
          },
          "metadata": {
            "tags": []
          },
          "execution_count": 105
        }
      ]
    },
    {
      "cell_type": "code",
      "metadata": {
        "id": "GRnJxCDJT6Ed",
        "outputId": "2a977df3-7074-4e1c-e632-0a23a8aaa1f6",
        "colab": {
          "base_uri": "https://localhost:8080/"
        }
      },
      "source": [
        "print('Accuracy score of the Random Forest classifier with default hyperparameter values {0:.2f}%'.format(accuracy_score(y_test, clf.predict(X_test))*100.))\n",
        "print('\\n')\n",
        "print('----Classification report of the Logistic Regression classifier with default hyperparameter value----')\n",
        "print('\\n')\n",
        "print(classification_report(y_test, clf.predict(X_test), target_names=['Phishing Websites', 'Normal Websites']))"
      ],
      "execution_count": null,
      "outputs": [
        {
          "output_type": "stream",
          "text": [
            "Accuracy score of the Random Forest classifier with default hyperparameter values 96.92%\n",
            "\n",
            "\n",
            "----Classification report of the Logistic Regression classifier with default hyperparameter value----\n",
            "\n",
            "\n",
            "                   precision    recall  f1-score   support\n",
            "\n",
            "Phishing Websites       0.97      0.96      0.97       980\n",
            "  Normal Websites       0.97      0.98      0.97      1231\n",
            "\n",
            "         accuracy                           0.97      2211\n",
            "        macro avg       0.97      0.97      0.97      2211\n",
            "     weighted avg       0.97      0.97      0.97      2211\n",
            "\n"
          ],
          "name": "stdout"
        }
      ]
    },
    {
      "cell_type": "code",
      "metadata": {
        "id": "Na78-gzmXo22",
        "outputId": "9fc18177-2ca5-4985-b759-d149e4756ecd",
        "colab": {
          "base_uri": "https://localhost:8080/"
        }
      },
      "source": [
        "print(matthews_corrcoef(y_test, clf.predict(X_test)))"
      ],
      "execution_count": null,
      "outputs": [
        {
          "output_type": "stream",
          "text": [
            "0.9376835394597448\n"
          ],
          "name": "stdout"
        }
      ]
    },
    {
      "cell_type": "markdown",
      "metadata": {
        "id": "S4FiroBGYirW"
      },
      "source": [
        "SVM"
      ]
    },
    {
      "cell_type": "code",
      "metadata": {
        "id": "9Eczw7iHYjk-",
        "outputId": "a278e0cf-96be-4851-ebb1-b1858944f2c0",
        "colab": {
          "base_uri": "https://localhost:8080/"
        }
      },
      "source": [
        "from sklearn import svm\n",
        "svm = svm.SVC(random_state=0)\n",
        "svm.fit(X_train, y_train)"
      ],
      "execution_count": null,
      "outputs": [
        {
          "output_type": "execute_result",
          "data": {
            "text/plain": [
              "SVC(C=1.0, break_ties=False, cache_size=200, class_weight=None, coef0=0.0,\n",
              "    decision_function_shape='ovr', degree=3, gamma='scale', kernel='rbf',\n",
              "    max_iter=-1, probability=False, random_state=0, shrinking=True, tol=0.001,\n",
              "    verbose=False)"
            ]
          },
          "metadata": {
            "tags": []
          },
          "execution_count": 108
        }
      ]
    },
    {
      "cell_type": "code",
      "metadata": {
        "id": "CQGtnjeJYraK",
        "outputId": "837e3c6b-5661-4fbd-ae60-bb44c60b3cac",
        "colab": {
          "base_uri": "https://localhost:8080/"
        }
      },
      "source": [
        "print('Accuracy score of the SVM with default hyperparameter values {0:.2f}%'.format(accuracy_score(y_test, svm.predict(X_test))*100.))\n",
        "print('\\n')\n",
        "print('----Classification report of the SVM classifier with default hyperparameter value----')\n",
        "print('\\n')\n",
        "print(classification_report(y_test, svm.predict(X_test), target_names=['Phishing Websites', 'Normal Websites']))"
      ],
      "execution_count": null,
      "outputs": [
        {
          "output_type": "stream",
          "text": [
            "Accuracy score of the SVM with default hyperparameter values 95.16%\n",
            "\n",
            "\n",
            "----Classification report of the SVM classifier with default hyperparameter value----\n",
            "\n",
            "\n",
            "                   precision    recall  f1-score   support\n",
            "\n",
            "Phishing Websites       0.95      0.94      0.95       980\n",
            "  Normal Websites       0.95      0.96      0.96      1231\n",
            "\n",
            "         accuracy                           0.95      2211\n",
            "        macro avg       0.95      0.95      0.95      2211\n",
            "     weighted avg       0.95      0.95      0.95      2211\n",
            "\n"
          ],
          "name": "stdout"
        }
      ]
    },
    {
      "cell_type": "code",
      "metadata": {
        "id": "CoAYUk3pZq3a",
        "outputId": "7330815a-689c-4bd1-af02-3eef3e706016",
        "colab": {
          "base_uri": "https://localhost:8080/"
        }
      },
      "source": [
        "print(matthews_corrcoef(y_test, svm.predict(X_test)))"
      ],
      "execution_count": null,
      "outputs": [
        {
          "output_type": "stream",
          "text": [
            "0.901878949041203\n"
          ],
          "name": "stdout"
        }
      ]
    },
    {
      "cell_type": "code",
      "metadata": {
        "id": "01ndO7EhabMz",
        "outputId": "79e63e85-cc5f-472c-dbc7-a1dbde4b0fd3",
        "colab": {
          "base_uri": "https://localhost:8080/"
        }
      },
      "source": [
        "from sklearn.tree import DecisionTreeClassifier\n",
        "dtc = DecisionTreeClassifier(random_state=0)\n",
        "dtc.fit(X_train, y_train)"
      ],
      "execution_count": null,
      "outputs": [
        {
          "output_type": "execute_result",
          "data": {
            "text/plain": [
              "DecisionTreeClassifier(ccp_alpha=0.0, class_weight=None, criterion='gini',\n",
              "                       max_depth=None, max_features=None, max_leaf_nodes=None,\n",
              "                       min_impurity_decrease=0.0, min_impurity_split=None,\n",
              "                       min_samples_leaf=1, min_samples_split=2,\n",
              "                       min_weight_fraction_leaf=0.0, presort='deprecated',\n",
              "                       random_state=0, splitter='best')"
            ]
          },
          "metadata": {
            "tags": []
          },
          "execution_count": 111
        }
      ]
    },
    {
      "cell_type": "code",
      "metadata": {
        "id": "KVL6aHUrakxM",
        "outputId": "6e884d4e-ed24-4365-d219-a29b00f2f75e",
        "colab": {
          "base_uri": "https://localhost:8080/"
        }
      },
      "source": [
        "print('Accuracy score of the SVM with default hyperparameter values {0:.2f}%'.format(accuracy_score(y_test, dtc.predict(X_test))*100.))\n",
        "print('\\n')\n",
        "print('----Classification report of the SVM classifier with default hyperparameter value----')\n",
        "print('\\n')\n",
        "print(classification_report(y_test, dtc.predict(X_test), target_names=['Phishing Websites', 'Normal Websites']))"
      ],
      "execution_count": null,
      "outputs": [
        {
          "output_type": "stream",
          "text": [
            "Accuracy score of the SVM with default hyperparameter values 96.11%\n",
            "\n",
            "\n",
            "----Classification report of the SVM classifier with default hyperparameter value----\n",
            "\n",
            "\n",
            "                   precision    recall  f1-score   support\n",
            "\n",
            "Phishing Websites       0.96      0.95      0.96       980\n",
            "  Normal Websites       0.96      0.97      0.97      1231\n",
            "\n",
            "         accuracy                           0.96      2211\n",
            "        macro avg       0.96      0.96      0.96      2211\n",
            "     weighted avg       0.96      0.96      0.96      2211\n",
            "\n"
          ],
          "name": "stdout"
        }
      ]
    },
    {
      "cell_type": "code",
      "metadata": {
        "id": "tuSdQrV6OTa4",
        "outputId": "034b42e1-44e5-40e2-e3ef-012db0425ff2",
        "colab": {
          "base_uri": "https://localhost:8080/"
        }
      },
      "source": [
        "print(matthews_corrcoef(y_test, dtc.predict(X_test)))"
      ],
      "execution_count": null,
      "outputs": [
        {
          "output_type": "stream",
          "text": [
            "0.921164884560761\n"
          ],
          "name": "stdout"
        }
      ]
    },
    {
      "cell_type": "markdown",
      "metadata": {
        "id": "t9lsZDktfZF0"
      },
      "source": [
        "### Trying to improve the predictive performance with Neural Networks"
      ]
    },
    {
      "cell_type": "code",
      "metadata": {
        "trusted": true,
        "id": "K1HNxQTcfZF1"
      },
      "source": [
        "# Imports\n",
        "from keras.models import Sequential\n",
        "from keras.layers import Dense\n",
        "from keras.optimizers import *"
      ],
      "execution_count": null,
      "outputs": []
    },
    {
      "cell_type": "code",
      "metadata": {
        "trusted": true,
        "id": "sOiqaf9SfZF3"
      },
      "source": [
        "# Model building using the Sequential API\n",
        "model = Sequential()\n",
        "\n",
        "model.add(Dense(40, activation='relu',\n",
        "          kernel_initializer='uniform',input_dim=X.shape[1]))\n",
        "model.add(Dense(30, activation='relu',\n",
        "          kernel_initializer='uniform'))\n",
        "model.add(Dense(1,  activation='sigmoid', \n",
        "          kernel_initializer='uniform'))\n",
        "\n",
        "model.compile(loss='binary_crossentropy', optimizer=Adam(), metrics=['accuracy'])"
      ],
      "execution_count": null,
      "outputs": []
    },
    {
      "cell_type": "code",
      "metadata": {
        "trusted": true,
        "id": "ChxivN4TfZF6",
        "outputId": "4b7d3a80-511f-47af-99be-57771f28abdb",
        "colab": {
          "base_uri": "https://localhost:8080/"
        }
      },
      "source": [
        "model.summary()"
      ],
      "execution_count": null,
      "outputs": [
        {
          "output_type": "stream",
          "text": [
            "Model: \"sequential_5\"\n",
            "_________________________________________________________________\n",
            "Layer (type)                 Output Shape              Param #   \n",
            "=================================================================\n",
            "dense_17 (Dense)             (None, 40)                1240      \n",
            "_________________________________________________________________\n",
            "dense_18 (Dense)             (None, 30)                1230      \n",
            "_________________________________________________________________\n",
            "dense_19 (Dense)             (None, 1)                 31        \n",
            "=================================================================\n",
            "Total params: 2,501\n",
            "Trainable params: 2,501\n",
            "Non-trainable params: 0\n",
            "_________________________________________________________________\n"
          ],
          "name": "stdout"
        }
      ]
    },
    {
      "cell_type": "markdown",
      "metadata": {
        "id": "A0evkBxSfZF9"
      },
      "source": [
        "### Defining an EarlyStopping callback, training the model and evaluating the model"
      ]
    },
    {
      "cell_type": "code",
      "metadata": {
        "trusted": true,
        "id": "iG-qlE6-fZF9"
      },
      "source": [
        "from keras import callbacks\n",
        "\n",
        "es_cb = callbacks.EarlyStopping(monitor='loss', min_delta=0.001, patience=5)"
      ],
      "execution_count": null,
      "outputs": []
    },
    {
      "cell_type": "code",
      "metadata": {
        "trusted": true,
        "collapsed": true,
        "id": "u79QkAr7fZGB",
        "outputId": "0ad8e936-00e5-4600-d56b-708f6c9bccb7",
        "colab": {
          "base_uri": "https://localhost:8080/"
        }
      },
      "source": [
        "history = model.fit(X_train, y_train, batch_size=64, epochs=128, verbose=1, callbacks=[es_cb])\n",
        "\n",
        "scores = model.evaluate(X_test, y_test)\n",
        "print('\\nAccuracy score of the Neural Network with basic hyperparameter settings {0:.2f}%'.format(scores[1]*100))"
      ],
      "execution_count": null,
      "outputs": [
        {
          "output_type": "stream",
          "text": [
            "Epoch 1/128\n",
            "139/139 [==============================] - 0s 1ms/step - loss: 0.4298 - accuracy: 0.8596\n",
            "Epoch 2/128\n",
            "139/139 [==============================] - 0s 1ms/step - loss: 0.1991 - accuracy: 0.9246\n",
            "Epoch 3/128\n",
            "139/139 [==============================] - 0s 1ms/step - loss: 0.1918 - accuracy: 0.9249\n",
            "Epoch 4/128\n",
            "139/139 [==============================] - 0s 1ms/step - loss: 0.1881 - accuracy: 0.9263\n",
            "Epoch 5/128\n",
            "139/139 [==============================] - 0s 1ms/step - loss: 0.1828 - accuracy: 0.9291\n",
            "Epoch 6/128\n",
            "139/139 [==============================] - 0s 1ms/step - loss: 0.1800 - accuracy: 0.9296\n",
            "Epoch 7/128\n",
            "139/139 [==============================] - 0s 1ms/step - loss: 0.1764 - accuracy: 0.9292\n",
            "Epoch 8/128\n",
            "139/139 [==============================] - 0s 1ms/step - loss: 0.1741 - accuracy: 0.9308\n",
            "Epoch 9/128\n",
            "139/139 [==============================] - 0s 1ms/step - loss: 0.1687 - accuracy: 0.9324\n",
            "Epoch 10/128\n",
            "139/139 [==============================] - 0s 1ms/step - loss: 0.1663 - accuracy: 0.9340\n",
            "Epoch 11/128\n",
            "139/139 [==============================] - 0s 1ms/step - loss: 0.1636 - accuracy: 0.9366\n",
            "Epoch 12/128\n",
            "139/139 [==============================] - 0s 1ms/step - loss: 0.1570 - accuracy: 0.9369\n",
            "Epoch 13/128\n",
            "139/139 [==============================] - 0s 1ms/step - loss: 0.1545 - accuracy: 0.9376\n",
            "Epoch 14/128\n",
            "139/139 [==============================] - 0s 1ms/step - loss: 0.1506 - accuracy: 0.9402\n",
            "Epoch 15/128\n",
            "139/139 [==============================] - 0s 1ms/step - loss: 0.1458 - accuracy: 0.9409\n",
            "Epoch 16/128\n",
            "139/139 [==============================] - 0s 1ms/step - loss: 0.1424 - accuracy: 0.9417\n",
            "Epoch 17/128\n",
            "139/139 [==============================] - 0s 1ms/step - loss: 0.1367 - accuracy: 0.9436\n",
            "Epoch 18/128\n",
            "139/139 [==============================] - 0s 1ms/step - loss: 0.1344 - accuracy: 0.9427\n",
            "Epoch 19/128\n",
            "139/139 [==============================] - 0s 1ms/step - loss: 0.1316 - accuracy: 0.9449\n",
            "Epoch 20/128\n",
            "139/139 [==============================] - 0s 1ms/step - loss: 0.1295 - accuracy: 0.9455\n",
            "Epoch 21/128\n",
            "139/139 [==============================] - 0s 1ms/step - loss: 0.1270 - accuracy: 0.9474\n",
            "Epoch 22/128\n",
            "139/139 [==============================] - 0s 1ms/step - loss: 0.1232 - accuracy: 0.9470\n",
            "Epoch 23/128\n",
            "139/139 [==============================] - 0s 1ms/step - loss: 0.1202 - accuracy: 0.9498\n",
            "Epoch 24/128\n",
            "139/139 [==============================] - 0s 1ms/step - loss: 0.1187 - accuracy: 0.9481\n",
            "Epoch 25/128\n",
            "139/139 [==============================] - 0s 1ms/step - loss: 0.1204 - accuracy: 0.9493\n",
            "Epoch 26/128\n",
            "139/139 [==============================] - 0s 1ms/step - loss: 0.1160 - accuracy: 0.9502\n",
            "Epoch 27/128\n",
            "139/139 [==============================] - 0s 1ms/step - loss: 0.1141 - accuracy: 0.9523\n",
            "Epoch 28/128\n",
            "139/139 [==============================] - 0s 1ms/step - loss: 0.1119 - accuracy: 0.9523\n",
            "Epoch 29/128\n",
            "139/139 [==============================] - 0s 1ms/step - loss: 0.1114 - accuracy: 0.9539\n",
            "Epoch 30/128\n",
            "139/139 [==============================] - 0s 1ms/step - loss: 0.1074 - accuracy: 0.9552\n",
            "Epoch 31/128\n",
            "139/139 [==============================] - 0s 1ms/step - loss: 0.1081 - accuracy: 0.9540\n",
            "Epoch 32/128\n",
            "139/139 [==============================] - 0s 1ms/step - loss: 0.1065 - accuracy: 0.9542\n",
            "Epoch 33/128\n",
            "139/139 [==============================] - 0s 1ms/step - loss: 0.1033 - accuracy: 0.9562\n",
            "Epoch 34/128\n",
            "139/139 [==============================] - 0s 1ms/step - loss: 0.1023 - accuracy: 0.9558\n",
            "Epoch 35/128\n",
            "139/139 [==============================] - 0s 1ms/step - loss: 0.1022 - accuracy: 0.9562\n",
            "Epoch 36/128\n",
            "139/139 [==============================] - 0s 1ms/step - loss: 0.1004 - accuracy: 0.9576\n",
            "Epoch 37/128\n",
            "139/139 [==============================] - 0s 1ms/step - loss: 0.0977 - accuracy: 0.9592\n",
            "Epoch 38/128\n",
            "139/139 [==============================] - 0s 1ms/step - loss: 0.0971 - accuracy: 0.9601\n",
            "Epoch 39/128\n",
            "139/139 [==============================] - 0s 1ms/step - loss: 0.0941 - accuracy: 0.9608\n",
            "Epoch 40/128\n",
            "139/139 [==============================] - 0s 1ms/step - loss: 0.0931 - accuracy: 0.9605\n",
            "Epoch 41/128\n",
            "139/139 [==============================] - 0s 1ms/step - loss: 0.0921 - accuracy: 0.9620\n",
            "Epoch 42/128\n",
            "139/139 [==============================] - 0s 1ms/step - loss: 0.0905 - accuracy: 0.9626\n",
            "Epoch 43/128\n",
            "139/139 [==============================] - 0s 1ms/step - loss: 0.0910 - accuracy: 0.9625\n",
            "Epoch 44/128\n",
            "139/139 [==============================] - 0s 1ms/step - loss: 0.0910 - accuracy: 0.9614\n",
            "Epoch 45/128\n",
            "139/139 [==============================] - 0s 1ms/step - loss: 0.0879 - accuracy: 0.9636\n",
            "Epoch 46/128\n",
            "139/139 [==============================] - 0s 1ms/step - loss: 0.0868 - accuracy: 0.9631\n",
            "Epoch 47/128\n",
            "139/139 [==============================] - 0s 1ms/step - loss: 0.0857 - accuracy: 0.9625\n",
            "Epoch 48/128\n",
            "139/139 [==============================] - 0s 1ms/step - loss: 0.0900 - accuracy: 0.9636\n",
            "Epoch 49/128\n",
            "139/139 [==============================] - 0s 1ms/step - loss: 0.0842 - accuracy: 0.9649\n",
            "Epoch 50/128\n",
            "139/139 [==============================] - 0s 1ms/step - loss: 0.0875 - accuracy: 0.9638\n",
            "Epoch 51/128\n",
            "139/139 [==============================] - 0s 1ms/step - loss: 0.0832 - accuracy: 0.9651\n",
            "Epoch 52/128\n",
            "139/139 [==============================] - 0s 1ms/step - loss: 0.0815 - accuracy: 0.9674\n",
            "Epoch 53/128\n",
            "139/139 [==============================] - 0s 1ms/step - loss: 0.0818 - accuracy: 0.9661\n",
            "Epoch 54/128\n",
            "139/139 [==============================] - 0s 1ms/step - loss: 0.0809 - accuracy: 0.9665\n",
            "Epoch 55/128\n",
            "139/139 [==============================] - 0s 1ms/step - loss: 0.0799 - accuracy: 0.9670\n",
            "Epoch 56/128\n",
            "139/139 [==============================] - 0s 1ms/step - loss: 0.0774 - accuracy: 0.9689\n",
            "Epoch 57/128\n",
            "139/139 [==============================] - 0s 1ms/step - loss: 0.0779 - accuracy: 0.9674\n",
            "Epoch 58/128\n",
            "139/139 [==============================] - 0s 1ms/step - loss: 0.0769 - accuracy: 0.9685\n",
            "Epoch 59/128\n",
            "139/139 [==============================] - 0s 1ms/step - loss: 0.0760 - accuracy: 0.9691\n",
            "Epoch 60/128\n",
            "139/139 [==============================] - 0s 1ms/step - loss: 0.0770 - accuracy: 0.9689\n",
            "Epoch 61/128\n",
            "139/139 [==============================] - 0s 1ms/step - loss: 0.0767 - accuracy: 0.9681\n",
            "Epoch 62/128\n",
            "139/139 [==============================] - 0s 1ms/step - loss: 0.0732 - accuracy: 0.9689\n",
            "Epoch 63/128\n",
            "139/139 [==============================] - 0s 1ms/step - loss: 0.0760 - accuracy: 0.9690\n",
            "Epoch 64/128\n",
            "139/139 [==============================] - 0s 1ms/step - loss: 0.0697 - accuracy: 0.9720\n",
            "Epoch 65/128\n",
            "139/139 [==============================] - 0s 1ms/step - loss: 0.0721 - accuracy: 0.9716\n",
            "Epoch 66/128\n",
            "139/139 [==============================] - 0s 1ms/step - loss: 0.0716 - accuracy: 0.9715\n",
            "Epoch 67/128\n",
            "139/139 [==============================] - 0s 1ms/step - loss: 0.0700 - accuracy: 0.9715\n",
            "Epoch 68/128\n",
            "139/139 [==============================] - 0s 1ms/step - loss: 0.0697 - accuracy: 0.9731\n",
            "Epoch 69/128\n",
            "139/139 [==============================] - 0s 1ms/step - loss: 0.0684 - accuracy: 0.9724\n",
            "Epoch 70/128\n",
            "139/139 [==============================] - 0s 1ms/step - loss: 0.0677 - accuracy: 0.9732\n",
            "Epoch 71/128\n",
            "139/139 [==============================] - 0s 1ms/step - loss: 0.0659 - accuracy: 0.9735\n",
            "Epoch 72/128\n",
            "139/139 [==============================] - 0s 1ms/step - loss: 0.0728 - accuracy: 0.9695\n",
            "Epoch 73/128\n",
            "139/139 [==============================] - 0s 1ms/step - loss: 0.0667 - accuracy: 0.9732\n",
            "Epoch 74/128\n",
            "139/139 [==============================] - 0s 1ms/step - loss: 0.0667 - accuracy: 0.9731\n",
            "Epoch 75/128\n",
            "139/139 [==============================] - 0s 1ms/step - loss: 0.0666 - accuracy: 0.9715\n",
            "Epoch 76/128\n",
            "139/139 [==============================] - 0s 1ms/step - loss: 0.0644 - accuracy: 0.9748\n",
            "Epoch 77/128\n",
            "139/139 [==============================] - 0s 1ms/step - loss: 0.0625 - accuracy: 0.9757\n",
            "Epoch 78/128\n",
            "139/139 [==============================] - 0s 1ms/step - loss: 0.0626 - accuracy: 0.9739\n",
            "Epoch 79/128\n",
            "139/139 [==============================] - 0s 1ms/step - loss: 0.0635 - accuracy: 0.9757\n",
            "Epoch 80/128\n",
            "139/139 [==============================] - 0s 1ms/step - loss: 0.0613 - accuracy: 0.9749\n",
            "Epoch 81/128\n",
            "139/139 [==============================] - 0s 1ms/step - loss: 0.0656 - accuracy: 0.9732\n",
            "Epoch 82/128\n",
            "139/139 [==============================] - 0s 1ms/step - loss: 0.0618 - accuracy: 0.9759\n",
            "Epoch 83/128\n",
            "139/139 [==============================] - 0s 1ms/step - loss: 0.0584 - accuracy: 0.9766\n",
            "Epoch 84/128\n",
            "139/139 [==============================] - 0s 1ms/step - loss: 0.0630 - accuracy: 0.9743\n",
            "Epoch 85/128\n",
            "139/139 [==============================] - 0s 1ms/step - loss: 0.0616 - accuracy: 0.9747\n",
            "Epoch 86/128\n",
            "139/139 [==============================] - 0s 1ms/step - loss: 0.0630 - accuracy: 0.9748\n",
            "Epoch 87/128\n",
            "139/139 [==============================] - 0s 1ms/step - loss: 0.0581 - accuracy: 0.9776\n",
            "Epoch 88/128\n",
            "139/139 [==============================] - 0s 1ms/step - loss: 0.0592 - accuracy: 0.9763\n",
            "70/70 [==============================] - 0s 897us/step - loss: 0.1020 - accuracy: 0.9607\n",
            "\n",
            "Accuracy score of the Neural Network with basic hyperparameter settings 96.07%\n"
          ],
          "name": "stdout"
        }
      ]
    },
    {
      "cell_type": "markdown",
      "metadata": {
        "id": "ckDHevarfZGF"
      },
      "source": [
        "###  Visualizing the performance of the network"
      ]
    },
    {
      "cell_type": "code",
      "metadata": {
        "trusted": true,
        "id": "ar_uLzvFfZGG"
      },
      "source": [
        "# N = 89\n",
        "\n",
        "# plt.figure(figsize=(8,6))\n",
        "# plt.plot(np.arange(0, N), history.history[\"loss\"], label=\"train_loss\")\n",
        "# plt.plot(np.arange(0, N), history.history[\"acc\"], label=\"train_acc\")\n",
        "\n",
        "# plt.title(\"Training Loss and Accuracy on the dataset\")\n",
        "# plt.xlabel(\"Epoch #\")\n",
        "# plt.ylabel(\"Loss/Accuracy\")\n",
        "# plt.legend(loc=\"middle\")\n",
        "# plt.show()"
      ],
      "execution_count": null,
      "outputs": []
    },
    {
      "cell_type": "markdown",
      "metadata": {
        "id": "kDWTg0w8fZGI"
      },
      "source": [
        "### Model enhancement with TDLHBA hyperparameters and visualization\n",
        "\n",
        "`TDLHBA` is technique introduced [in this paper](https://dl.acm.org/citation.cfm?id=3227655). We will use hyperparameter values as presented in the paper to see the performance enhancement of the model. "
      ]
    },
    {
      "cell_type": "code",
      "metadata": {
        "trusted": true,
        "id": "mT9HujlPfZGJ"
      },
      "source": [
        "# Building the model with the same topology as specified in the above-mentioned paper\n",
        "\n",
        "model_TDLHBA = Sequential()\n",
        "\n",
        "model_TDLHBA.add(Dense(40, activation='relu',\n",
        "          kernel_initializer='uniform',input_dim=30))\n",
        "model_TDLHBA.add(Dense(30, activation='relu',\n",
        "          kernel_initializer='uniform'))\n",
        "model_TDLHBA.add(Dense(15, activation='relu',\n",
        "          kernel_initializer='uniform'))\n",
        "model_TDLHBA.add(Dense(1,  activation='sigmoid', \n",
        "          kernel_initializer='uniform'))\n",
        "\n",
        "adam = Adam(lr=0.0017470)\n",
        "model_TDLHBA.compile(loss='binary_crossentropy', optimizer=adam, metrics=['accuracy'])"
      ],
      "execution_count": null,
      "outputs": []
    },
    {
      "cell_type": "code",
      "metadata": {
        "trusted": true,
        "collapsed": true,
        "id": "a1dX9t3VfZGO",
        "outputId": "cbb32a0c-4ab6-4a23-8072-c922210021f3",
        "colab": {
          "base_uri": "https://localhost:8080/"
        }
      },
      "source": [
        "history_TDLHBA = model_TDLHBA.fit(X_train, y_train, batch_size=20, epochs=100, verbose=1, callbacks=[es_cb])\n",
        "\n",
        "scores = model_TDLHBA.evaluate(X_test, y_test)\n",
        "print('\\nAccuracy score of the Neural Network with TDLHBA hyperparameter settings {0:.2f}%'.format(scores[1]*100))"
      ],
      "execution_count": null,
      "outputs": [
        {
          "output_type": "stream",
          "text": [
            "Epoch 1/100\n",
            "443/443 [==============================] - 1s 1ms/step - loss: 0.2707 - accuracy: 0.8839\n",
            "Epoch 2/100\n",
            "443/443 [==============================] - 1s 1ms/step - loss: 0.1827 - accuracy: 0.9306\n",
            "Epoch 3/100\n",
            "443/443 [==============================] - 1s 1ms/step - loss: 0.1700 - accuracy: 0.9332\n",
            "Epoch 4/100\n",
            "443/443 [==============================] - 1s 1ms/step - loss: 0.1562 - accuracy: 0.9361\n",
            "Epoch 5/100\n",
            "443/443 [==============================] - 1s 1ms/step - loss: 0.1461 - accuracy: 0.9377\n",
            "Epoch 6/100\n",
            "443/443 [==============================] - 1s 1ms/step - loss: 0.1361 - accuracy: 0.9435\n",
            "Epoch 7/100\n",
            "443/443 [==============================] - 1s 1ms/step - loss: 0.1262 - accuracy: 0.9453\n",
            "Epoch 8/100\n",
            "443/443 [==============================] - 1s 1ms/step - loss: 0.1193 - accuracy: 0.9490\n",
            "Epoch 9/100\n",
            "443/443 [==============================] - 1s 1ms/step - loss: 0.1115 - accuracy: 0.9524\n",
            "Epoch 10/100\n",
            "443/443 [==============================] - 1s 1ms/step - loss: 0.1075 - accuracy: 0.9556\n",
            "Epoch 11/100\n",
            "443/443 [==============================] - 1s 1ms/step - loss: 0.1012 - accuracy: 0.9595\n",
            "Epoch 12/100\n",
            "443/443 [==============================] - 1s 1ms/step - loss: 0.0947 - accuracy: 0.9594\n",
            "Epoch 13/100\n",
            "443/443 [==============================] - 1s 1ms/step - loss: 0.0915 - accuracy: 0.9607\n",
            "Epoch 14/100\n",
            "443/443 [==============================] - 1s 1ms/step - loss: 0.0859 - accuracy: 0.9642\n",
            "Epoch 15/100\n",
            "443/443 [==============================] - 1s 1ms/step - loss: 0.0819 - accuracy: 0.9656\n",
            "Epoch 16/100\n",
            "443/443 [==============================] - 1s 1ms/step - loss: 0.0798 - accuracy: 0.9651\n",
            "Epoch 17/100\n",
            "443/443 [==============================] - 1s 1ms/step - loss: 0.0759 - accuracy: 0.9679\n",
            "Epoch 18/100\n",
            "443/443 [==============================] - 1s 1ms/step - loss: 0.0713 - accuracy: 0.9697\n",
            "Epoch 19/100\n",
            "443/443 [==============================] - 1s 1ms/step - loss: 0.0703 - accuracy: 0.9697\n",
            "Epoch 20/100\n",
            "443/443 [==============================] - 1s 1ms/step - loss: 0.0665 - accuracy: 0.9729\n",
            "Epoch 21/100\n",
            "443/443 [==============================] - 1s 1ms/step - loss: 0.0633 - accuracy: 0.9732\n",
            "Epoch 22/100\n",
            "443/443 [==============================] - 1s 1ms/step - loss: 0.0643 - accuracy: 0.9741\n",
            "Epoch 23/100\n",
            "443/443 [==============================] - 1s 1ms/step - loss: 0.0642 - accuracy: 0.9731\n",
            "Epoch 24/100\n",
            "443/443 [==============================] - 1s 1ms/step - loss: 0.0634 - accuracy: 0.9723\n",
            "Epoch 25/100\n",
            "443/443 [==============================] - 1s 1ms/step - loss: 0.0603 - accuracy: 0.9755\n",
            "Epoch 26/100\n",
            "443/443 [==============================] - 1s 1ms/step - loss: 0.0578 - accuracy: 0.9752\n",
            "Epoch 27/100\n",
            "443/443 [==============================] - 1s 1ms/step - loss: 0.0571 - accuracy: 0.9767\n",
            "Epoch 28/100\n",
            "443/443 [==============================] - 1s 1ms/step - loss: 0.0555 - accuracy: 0.9776\n",
            "Epoch 29/100\n",
            "443/443 [==============================] - 1s 1ms/step - loss: 0.0547 - accuracy: 0.9784\n",
            "Epoch 30/100\n",
            "443/443 [==============================] - 1s 1ms/step - loss: 0.0535 - accuracy: 0.9769\n",
            "Epoch 31/100\n",
            "443/443 [==============================] - 1s 1ms/step - loss: 0.0561 - accuracy: 0.9756\n",
            "Epoch 32/100\n",
            "443/443 [==============================] - 1s 1ms/step - loss: 0.0513 - accuracy: 0.9774\n",
            "Epoch 33/100\n",
            "443/443 [==============================] - 1s 1ms/step - loss: 0.0515 - accuracy: 0.9785\n",
            "Epoch 34/100\n",
            "443/443 [==============================] - 1s 1ms/step - loss: 0.0514 - accuracy: 0.9774\n",
            "Epoch 35/100\n",
            "443/443 [==============================] - 1s 1ms/step - loss: 0.0504 - accuracy: 0.9806\n",
            "Epoch 36/100\n",
            "443/443 [==============================] - 1s 1ms/step - loss: 0.0506 - accuracy: 0.9791\n",
            "Epoch 37/100\n",
            "443/443 [==============================] - 1s 1ms/step - loss: 0.0479 - accuracy: 0.9796\n",
            "Epoch 38/100\n",
            "443/443 [==============================] - 1s 1ms/step - loss: 0.0506 - accuracy: 0.9786\n",
            "Epoch 39/100\n",
            "443/443 [==============================] - 1s 1ms/step - loss: 0.0522 - accuracy: 0.9782\n",
            "Epoch 40/100\n",
            "443/443 [==============================] - 1s 1ms/step - loss: 0.0485 - accuracy: 0.9802\n",
            "Epoch 41/100\n",
            "443/443 [==============================] - 1s 1ms/step - loss: 0.0481 - accuracy: 0.9798\n",
            "Epoch 42/100\n",
            "443/443 [==============================] - 1s 1ms/step - loss: 0.0491 - accuracy: 0.9791\n",
            "70/70 [==============================] - 0s 904us/step - loss: 0.1126 - accuracy: 0.9674\n",
            "\n",
            "Accuracy score of the Neural Network with TDLHBA hyperparameter settings 96.74%\n"
          ],
          "name": "stdout"
        }
      ]
    },
    {
      "cell_type": "code",
      "metadata": {
        "id": "e_tLkks4WV5E"
      },
      "source": [
        "yhat_probs = model_TDLHBA.predict(X_test, verbose=0)\n",
        "yhat_classes = model_TDLHBA.predict_classes(X_test, verbose=0)"
      ],
      "execution_count": null,
      "outputs": []
    },
    {
      "cell_type": "code",
      "metadata": {
        "id": "fIXdlNg8WiJ1"
      },
      "source": [
        "yhat_probs = yhat_probs[:, 0]\n",
        "yhat_classes = yhat_classes[:, 0]\n"
      ],
      "execution_count": null,
      "outputs": []
    },
    {
      "cell_type": "code",
      "metadata": {
        "id": "sGTe3ebsVZ5h",
        "outputId": "e9b4117a-b044-4247-81d2-3a69b3a93229",
        "colab": {
          "base_uri": "https://localhost:8080/"
        }
      },
      "source": [
        "print(classification_report(y_test, yhat_classes, target_names=['Phishing Websites', 'Normal Websites']))"
      ],
      "execution_count": null,
      "outputs": [
        {
          "output_type": "stream",
          "text": [
            "                   precision    recall  f1-score   support\n",
            "\n",
            "Phishing Websites       0.98      0.94      0.96       980\n",
            "  Normal Websites       0.96      0.99      0.97      1231\n",
            "\n",
            "         accuracy                           0.97      2211\n",
            "        macro avg       0.97      0.97      0.97      2211\n",
            "     weighted avg       0.97      0.97      0.97      2211\n",
            "\n"
          ],
          "name": "stdout"
        }
      ]
    },
    {
      "cell_type": "code",
      "metadata": {
        "id": "XGCv9M77Xzzi",
        "outputId": "2705996d-87bf-440f-a414-77c59f638903",
        "colab": {
          "base_uri": "https://localhost:8080/"
        }
      },
      "source": [
        "print(matthews_corrcoef(y_test, yhat_classes))"
      ],
      "execution_count": null,
      "outputs": [
        {
          "output_type": "stream",
          "text": [
            "0.9343300915525903\n"
          ],
          "name": "stdout"
        }
      ]
    },
    {
      "cell_type": "markdown",
      "metadata": {
        "id": "IZNtTWlPfZGV"
      },
      "source": [
        "So, in this notebook, we took a quick look at how we can employ machine learning and other data science techniques to detect phishing websites. As a next step, you can wrap the final model as a REST API endpoint and use it along with a browser add-on. "
      ]
    }
  ]
}